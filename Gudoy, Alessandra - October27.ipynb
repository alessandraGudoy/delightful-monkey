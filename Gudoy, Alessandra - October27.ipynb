{
 "cells": [
  {
   "cell_type": "markdown",
   "id": "637f3dce",
   "metadata": {},
   "source": [
    "-----\n",
    "\n",
    "## <span style = \"color:blue\"> ICS 141: Falls 2023</span>\n",
    "### Recitation October 27\n",
    "     \n",
    "    Code Edition\n",
    "\n",
    "------"
   ]
  },
  {
   "cell_type": "markdown",
   "id": "dd0918b2",
   "metadata": {},
   "source": [
    " ## 1.  **GDC using Euclidean Algorithm**\n",
    "\n",
    "    The Euclidian algorithm is an efficient method for  computing the greatest common divisor of two integers. It is based on the idea that gcd(a,b) is equal to gcd(a,c) when a > b and c is the remainder when a is divided by b.\n",
    "\n",
    "\n",
    "Following pseudo code on __slide 51__ of the lecture slides, Write a function to find the GCD of two numbers using Euclid's algorithm. The function should take two integer arguments and return their GCD.\n",
    "\n",
    "Test your code using pairs $(24,36), (78,12), (18,85)$"
   ]
  },
  {
   "cell_type": "code",
   "execution_count": 22,
   "id": "85c1d7cc",
   "metadata": {},
   "outputs": [
    {
     "name": "stdout",
     "output_type": "stream",
     "text": [
      "12\n",
      "6\n",
      "1\n"
     ]
    }
   ],
   "source": [
    "def gcd(a, b):\n",
    "    x = a       # store value of a in x\n",
    "    y = b       # store value of b in y\n",
    "\n",
    "    while y != 0:   # while y does not equal 0\n",
    "        r = x % y   # store remainder of x / y in r (temporary variable)\n",
    "        x = y       # store value of y in x\n",
    "        y = r       # store remainder in y\n",
    "    \n",
    "    return x\n",
    "\n",
    "\n",
    "print(gcd(24,36))\n",
    "print(gcd(78,12))\n",
    "print(gcd(18,85))"
   ]
  },
  {
   "cell_type": "markdown",
   "id": "e51dd711",
   "metadata": {},
   "source": [
    "-----"
   ]
  },
  {
   "cell_type": "markdown",
   "id": "212b2878",
   "metadata": {},
   "source": [
    "## 2. **GCD of a list of integers**\n",
    "\n",
    "Using your function from Q1, write a function to find the GCD of a list of numbers. The function should take a list of integers as an argument and return their GCD.\n",
    "\n",
    "    hint: compute the GCD of each number with the GCD of all previous numbers \n",
    "    \n",
    "__Pseudo code__\n",
    "\n",
    "```\n",
    "function gcd_list(num_list):\n",
    "    Initialize the GCD to the first number in the list\n",
    "    Iterate over the remaining numbers in the list\n",
    "        Compute the GCD of the current number and the running GCD\n",
    "    return the final GCD\n",
    "```\n",
    "\n",
    "\n",
    "Test your code using lists: $[24,48,60,96], [23,54,75], [18,156,2007], [16,44,196,72]$"
   ]
  },
  {
   "cell_type": "code",
   "execution_count": 23,
   "id": "9ca3930b",
   "metadata": {},
   "outputs": [
    {
     "name": "stdout",
     "output_type": "stream",
     "text": [
      "4\n",
      "1\n",
      "3\n",
      "4\n"
     ]
    }
   ],
   "source": [
    "def gcd_list(num_list):\n",
    "    result = num_list[0]\n",
    "    \n",
    "    for i in range(0, len(num_list)):\n",
    "        result = gcd(result, num_list[i])\n",
    "\n",
    "    return result\n",
    "\n",
    "print(gcd_list([24, 28, 60, 96]))\n",
    "print(gcd_list([23, 54, 75]))\n",
    "print(gcd_list([18, 156, 2007]))\n",
    "print(gcd_list([16, 44, 196, 72]))"
   ]
  },
  {
   "cell_type": "markdown",
   "id": "56c2fd6e",
   "metadata": {},
   "source": [
    "-----"
   ]
  },
  {
   "cell_type": "markdown",
   "id": "fb5542b1",
   "metadata": {},
   "source": [
    "## 3. **Binary and decimal conversion**\n",
    "\n",
    "        Most computers represent integers and do arithmetic with binary  (base 2) expansions of integers. In these expansions, the only digits used are 0 and 1.\n",
    "        \n",
    "Write two functions, *binary_to_decimal()*, and *decimal_to_binary()*, that perform the conversion from one base to the other. "
   ]
  },
  {
   "cell_type": "markdown",
   "id": "93cdbd14",
   "metadata": {},
   "source": [
    "\n",
    "**Pseudo code**\n",
    "    \n",
    "    function binary_to_decimal(bin_string)\n",
    "        Initialize a variable result to 0.\n",
    "        Iterate over each digit in the binary number from right to left:\n",
    "            If the digit is 1, add 2 raised to the power of its position from the right to result.\n",
    "            If the digit is 0, continue to the next digit.\n",
    "        Return result.\n",
    "        \n",
    "        \n",
    "    function decimal_to_binary(number)\n",
    "        Initialize an empty string result to hold the result.\n",
    "        Divide the decimal number by 2 and take the remainder.\n",
    "        Append the remainder to the left of result string.\n",
    "        Divide the quotient from step 2 by 2 and take the remainder.\n",
    "        Repeat steps 3 and 4 until the quotient becomes 0.\n",
    "        Return binary_num.\n",
    "    \n",
    "\n",
    "Use the following decimal numbers to test your code: $0,351,27,66721,55,183623$. if both functions are correct the conversions will get you back to the other base."
   ]
  },
  {
   "cell_type": "code",
   "execution_count": 24,
   "id": "8e925b5a",
   "metadata": {},
   "outputs": [
    {
     "name": "stdout",
     "output_type": "stream",
     "text": [
      "BINARY TO DECIMAL\n",
      "0\n",
      "351\n",
      "27\n",
      "66721\n",
      "55\n",
      "183623\n"
     ]
    }
   ],
   "source": [
    "def binary_to_decimal(bin_string):\n",
    "    result = 0                  # store result\n",
    "    string = [*bin_string]      # convert bin_string into list where each element is a character\n",
    "    exp = 0                     # store current power, starting with 0 (right to left)\n",
    "    \n",
    "    for i in range(len(string)-1, -1, -1):  # for each character in string (right to left)\n",
    "        result = result + int(string[i]) * (2**exp)     # add current value of binary digit to result\n",
    "        exp = exp + 1       # increment the power by one as you shift left\n",
    "    \n",
    "\n",
    "    return result\n",
    "\n",
    "print(\"BINARY TO DECIMAL\")\n",
    "print(binary_to_decimal(\"0\"))\n",
    "print(binary_to_decimal(\"101011111\"))\n",
    "print(binary_to_decimal(\"11011\"))\n",
    "print(binary_to_decimal(\"10000010010100001\"))\n",
    "print(binary_to_decimal(\"110111\"))\n",
    "print(binary_to_decimal(\"101100110101000111\"))"
   ]
  },
  {
   "cell_type": "code",
   "execution_count": 25,
   "id": "b3eb779d",
   "metadata": {},
   "outputs": [
    {
     "name": "stdout",
     "output_type": "stream",
     "text": [
      "DECIMAL TO BINARY\n",
      "0\n",
      "101011111\n",
      "11011\n",
      "10000010010100001\n",
      "110111\n",
      "101100110101000111\n"
     ]
    }
   ],
   "source": [
    "def decimal_to_binary(number):\n",
    "    result = \"\"     # store result\n",
    "    x = number      # store number in x\n",
    "    \n",
    "    if number == 0:\n",
    "        result = \"0\"\n",
    "    \n",
    "    while x > 0:\n",
    "        result = str(x%2) + result      # add remainder to front of result\n",
    "        x = int(x / 2)                  # divide x by base (2)\n",
    "\n",
    "    return result\n",
    "\n",
    "print(\"DECIMAL TO BINARY\")\n",
    "print(decimal_to_binary(0))\n",
    "print(decimal_to_binary(351))\n",
    "print(decimal_to_binary(27))\n",
    "print(decimal_to_binary(66721))\n",
    "print(decimal_to_binary(55))\n",
    "print(decimal_to_binary(183623))"
   ]
  },
  {
   "cell_type": "markdown",
   "id": "fdf3415c",
   "metadata": {},
   "source": [
    "-----\n",
    "\n",
    "## 4. Octal, Hexadecimal? (Optional)\n",
    "\n",
    "Given that in binary expansion we use 0 and 1, in octal we use 0 to 7 and hexadecimal we use $[0,9] \\bigcup [A,B,C,D,E,F]$, \n",
    "try writing two functions that go from octal and hexadecimal to decimal. Look at **slides 23 and 24** for examples\n",
    "\n",
    "        hint: since A,B,C,D,E,F are not numbers, store their values in a dictionary to use them:\n",
    "        \n",
    "            big_hex = {A:10,B:11,C:12,D:13,E:14,F:15}\n",
    "        #then value for E would be retrived  as \n",
    "            big_hex[E]"
   ]
  },
  {
   "cell_type": "code",
   "execution_count": 26,
   "id": "2b821a1d",
   "metadata": {},
   "outputs": [
    {
     "name": "stdout",
     "output_type": "stream",
     "text": [
      "5911\n",
      "25385\n",
      "3164\n",
      "6075\n"
     ]
    }
   ],
   "source": [
    "def octal_to_decimal(oct_string):\n",
    "    result = 0\n",
    "    string = [* oct_string]\n",
    "    exp = 0\n",
    "    \n",
    "    for i in range(len(string)-1, -1, -1):\n",
    "        result = result + int(string[i]) * (8 ** exp)\n",
    "        exp = exp + 1\n",
    "    \n",
    "    return result\n",
    "\n",
    "print(octal_to_decimal(\"13427\"))        # 5911\n",
    "print(octal_to_decimal(\"61451\"))        # 25385\n",
    "print(octal_to_decimal(\"6134\"))         # 3164\n",
    "print(octal_to_decimal(\"13673\"))        # 6075"
   ]
  },
  {
   "cell_type": "code",
   "execution_count": 27,
   "id": "237ef798",
   "metadata": {},
   "outputs": [
    {
     "name": "stdout",
     "output_type": "stream",
     "text": [
      "21\n",
      "10\n",
      "3479059\n",
      "11211407\n",
      "15917720\n"
     ]
    }
   ],
   "source": [
    "def hexacedical_to_decimal(hex_string):\n",
    "    values = [\"0\", \"1\", \"2\", \"3\", \"4\", \"5\", \"6\", \"7\", \"8\", \"9\", \"A\", \"B\", \"C\", \"D\", \"E\", \"F\"]\n",
    "    \n",
    "    result = 0\n",
    "    string = [* hex_string.upper()]\n",
    "    exp = 0\n",
    "    \n",
    "    for i in range(len(string)-1, -1, -1):\n",
    "        result = result + int(values.index(string[i])) * (16 ** exp)\n",
    "        exp = exp + 1\n",
    "    \n",
    "    return result\n",
    "\n",
    "print(hexacedical_to_decimal(\"15\"))         # 21\n",
    "print(hexacedical_to_decimal(\"A\"))          # 10\n",
    "print(hexacedical_to_decimal(\"351613\"))     # 3479059\n",
    "print(hexacedical_to_decimal(\"ab128f\"))     # 11211407\n",
    "print(hexacedical_to_decimal(\"f2e298\"))     # 15917720"
   ]
  },
  {
   "cell_type": "markdown",
   "id": "d4cbb1c3",
   "metadata": {},
   "source": [
    "-----\n",
    "\n",
    "## 5 Collatz Conjecture ( __combination of sequences and convergence from functions__ )\n",
    "\n",
    "    The Collatz Conjecture is a famous unsolved mathematical problem that involves starting with any positive integer, and then repeatedly applying a specific function to the integer until it eventually reaches 1. The function is as follows:\n",
    "    1. If the integer is even, divide it by 2\n",
    "    2. If the integer is odd, multiply it by 3 and add 1\n",
    "    \n",
    "    The conjecture states that no matter which positive integer you start with, you will always eventually reach 1 after repeating this process enough times."
   ]
  },
  {
   "cell_type": "code",
   "execution_count": 28,
   "id": "63f75782",
   "metadata": {},
   "outputs": [
    {
     "name": "stdout",
     "output_type": "stream",
     "text": [
      "[5.0, 16.0, 8.0, 4.0, 2.0, 1.0]\n"
     ]
    }
   ],
   "source": [
    "def collatz(num, N=1200):\n",
    "    nodes =[]\n",
    "    iterations = 0\n",
    "\n",
    "    while iterations <= N and num > 1:\n",
    "        if num % 2 == 0:\n",
    "            num = num / 2\n",
    "        else:\n",
    "            num = (num * 3) + 1\n",
    "        \n",
    "        nodes.append(num)\n",
    "        \n",
    "        iterations = iterations + 1\n",
    "\n",
    "    #num is the number we are tracking(n_0) under the conjecture, N is the number of iterations we want to quit after\n",
    "    #we are returning the list of integers we encounterd before we reached 1\n",
    "    \n",
    "    return nodes\n",
    "\n",
    "print(collatz(10))"
   ]
  },
  {
   "cell_type": "markdown",
   "id": "55902399",
   "metadata": {},
   "source": [
    "### 5. 1 Visualizing collatz now use the following code to visualize the collatz conjecture\n",
    "- You will need to install graphviz and pydotplus\n",
    "- figure the missing parts of write from scratch"
   ]
  },
  {
   "cell_type": "code",
   "execution_count": 29,
   "id": "0dc46112",
   "metadata": {},
   "outputs": [
    {
     "data": {
      "image/png": "[encoded data removed]",
      "text/plain": [
       "<Figure size 640x480 with 1 Axes>"
      ]
     },
     "metadata": {},
     "output_type": "display_data"
    }
   ],
   "source": [
    "import networkx as nx\n",
    "import matplotlib.pyplot as plt\n",
    "\n",
    "# G = nx.DiGraph(collatz(100))\n",
    "\n",
    "x = list(range(0, len(collatz(100))))\n",
    "plt.plot(x, collatz(100))\n",
    "\n",
    "plt.title(\"Collatz Conjecture\")\n",
    "plt.xlabel(\"Index\")\n",
    "plt.ylabel(\"Value\")\n",
    "\n",
    "# plt.axis('off')\n",
    "plt.show()\n"
   ]
  }
 ],
 "metadata": {
  "kernelspec": {
   "display_name": "Python 3 (ipykernel)",
   "language": "python",
   "name": "python3"
  },
  "language_info": {
   "codemirror_mode": {
    "name": "ipython",
    "version": 3
   },
   "file_extension": ".py",
   "mimetype": "text/x-python",
   "name": "python",
   "nbconvert_exporter": "python",
   "pygments_lexer": "ipython3",
   "version": "3.11.0"
  }
 },
 "nbformat": 4,
 "nbformat_minor": 5
}
