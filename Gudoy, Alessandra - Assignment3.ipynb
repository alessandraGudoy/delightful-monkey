{
 "cells": [
  {
   "attachments": {},
   "cell_type": "markdown",
   "id": "c0988dae",
   "metadata": {},
   "source": [
    "# <span style = \"color:blue\"> ICS 141: Fall 2023</span>\n",
    "\n",
    "## <span style = \"color:blue\"> Assignment 3</span>\n",
    "\n",
    "\n",
    "    Student name: Alessandra Gudoy\n",
    "    \n",
    "    \n",
    " \n",
    "##### <span style='color:red'>Grading breakbown:</span>\n",
    "\n",
    "<span style='color:orange'>1. Theory - 70</span>\n",
    "\n",
    "\n",
    "<span style='color:orange'>2. Code - 30</span>\n",
    "\n",
    "-----\n",
    "\n",
    "### <span style='color:green'>Grade: -/-</span>\n"
   ]
  },
  {
   "cell_type": "markdown",
   "id": "6776c8bf",
   "metadata": {},
   "source": [
    "-----\n",
    "-----\n",
    "-----"
   ]
  },
  {
   "cell_type": "markdown",
   "id": "2d753ee9",
   "metadata": {},
   "source": [
    "## Question 1 (30) - Induction Proofs\n",
    "\n",
    "### [Chapter 5 slides]\n",
    "\n",
    "#### _Show all 3 inductive steps in proof questions_\n",
    "\n",
    "----"
   ]
  },
  {
   "cell_type": "markdown",
   "id": "892520f0",
   "metadata": {},
   "source": [
    "#### a. Show the base case and state the __strong inductive steps__, _but do not prove_:\n",
    " for all $n\\ge2$:\n",
    " \n",
    " $$\\sqrt[n]{n} < 2-\\frac{1}{n}$$\n",
    " \n",
    " __[3 points]__\n",
    " \n",
    "    Base case: Show that the comparison is true for n=2.\n",
    "$\\sqrt[2]{2} < 2-\\frac{1}{2}$\n",
    "\n",
    "=> $\\sqrt[2]{2} < \\frac{3}{2}$\n",
    "\n",
    "We know that $\\frac{3}{2}$ is greater because $\\sqrt[2]{2}$ is about 1.414 and $\\frac{3}{2}$ is 1.5.\n",
    "\n",
    "    Inductive step: We assume that the inequality holds true for all n greater than or equal to 2 up to some integer k. Then, we need to prove that\n",
    "\n",
    "$\\sqrt[k]{k} < 2-\\frac{1}{k}$ and\n",
    "$\\sqrt[k+1]{k+1} < 2-\\frac{1}{k+1}$\n",
    "are both true.\n",
    "\n"
   ]
  },
  {
   "attachments": {},
   "cell_type": "markdown",
   "id": "b9e1feb6",
   "metadata": {},
   "source": [
    "#### b. __Prove using strong induction__ that $17n^3+103n$ is divisible by $6$ for all integers $n$.\n",
    "\n",
    "__[5 points]__\n",
    "\n",
    "    Base case: Prove for n=1, n=2.\n",
    "n=1\n",
    "\n",
    "$17(1)^3+103(1)=17+103=120$\n",
    "\n",
    "$120 / 6 = 20$\n",
    "\n",
    "n=2\n",
    "\n",
    "$17(2)^3+103(2)=17(8)+206=342$\n",
    "\n",
    "$342 / 6 = 57$\n",
    "\n",
    "    Inductive Step: Assuming that the equation is true for all integers until |n| (because negative integers will result in the same absolute values as the positive integers) until some integer k, we must prove that the equation is also true for the next integer, k + 1. In other words, P(1), P(2), P(3), ..., P(k-1), and P(k) are all true.\n",
    "\n",
    "$17(k+1)^3+103(k+1)=17k^3+51k^2+154k+120=(17k^3+103k)+(51k^2+51k+120)$\n",
    "\n",
    "The first part is true as we assume that P(k) is true. \n",
    "\n",
    "Checking even integers ($2m=k$) that $51k^2+51k+120$ is true:\n",
    "\n",
    "$51(2m)^2+51(2m)+120 = 204m^2+102m+120$\n",
    "\n",
    "    All the coefficients are divisble by 6 (204/6=34, 102/6=17, 120/6=20), therefore even integers for k are divisible by 6.\n",
    "\n",
    "\n",
    "Checking odd integers ($2m+1=k$) that $51k^2+51k+120$ is true:\n",
    "\n",
    "$51(2m+1)^2+51(2m+1)+120 = 204m^2+306m+222$\n",
    "\n",
    "    All the coefficients are divisble by 6 (204/6=34, 306/6=51, 222/6=37), therefore odd integers for k are divisible by 6.\n",
    "\n",
    "    \n",
    "    By inductive reasoning, all integers for n will result in an integer divisible by 6.\n"
   ]
  },
  {
   "cell_type": "markdown",
   "id": "368201cb",
   "metadata": {},
   "source": [
    "#### c. __Prove using weak induction__ that  for all positive integers $n$\n",
    "\n",
    "$$1^2+3^2+5^2+...+(2n-1)^2 = \\frac{4n^3-n}{3}$$\n",
    "\n",
    "__[5 points]__\n",
    "\n",
    "    Base case: Prove for n=1, n=2.\n",
    "\n",
    "n=1\n",
    "\n",
    "$(2(1)-1)^1 = 1$\n",
    "\n",
    "$\\frac{4(1)^3-1}{3}=\\frac{3}{3} = 1$\n",
    "\n",
    "n=2\n",
    "\n",
    "$(2(1)-1)^2 + (2(2)-2)^2 = 1 + 3^2 = 10$\n",
    "\n",
    "$\\frac{4(2)^3-2}{3}=\\frac{4(8)-2}{3}=\\frac{30}{3}=10$\n",
    "\n",
    "    Inductive case: Assuming that P(n) is true for P(k), prove P(k+1)\n",
    "\n",
    "By n=k,\n",
    "\n",
    "$1^2+3^2+5^2+...+(2k-1)^2=\\frac{4k^3-k}{3}$\n",
    "\n",
    "For n=k+1\n",
    "\n",
    "$1^2+3^2+5^2+...+(2k-1)^2 + (2(k+1)-1)^2 = 1^2+3^2+5^2+...+(2k-1)^2 + (2k+1)^2$\n",
    "\n",
    "$\\frac{4k^3-k}{3} + (2k+1)^2 = \\frac{4(k+1)^3-(k+1)}{3}$\n",
    "\n",
    "$\\frac{4k^3-k}{3} + 4k^2+4k+1 = \\frac{4(k^3 + 3k^2 + 3k + 1) - (k + 1)}{3}$\n",
    "\n",
    "$\\frac{4k^3-k+12k^2+12k+3}{3} = \\frac{4k^3+12k^2+11k+3}{3}$\n",
    "\n",
    "$\\frac{4k^3+12k^2+11k+3}{3} = \\frac{4k^3+12k^2+11k+3}{3}$\n",
    "\n",
    "    Because both sides of the equation, P(k+1) is true.\n"
   ]
  },
  {
   "cell_type": "markdown",
   "id": "f3b409da",
   "metadata": {},
   "source": [
    "#### d. __Prove__ the following for all positive integers $n$ __using weak induction__\n",
    "\n",
    "$$\\sum_{i=1}^n \\frac{1}{i(i+1)} = \\frac{n}{n+1}$$\n",
    "\n",
    "\n",
    "__[5 points]__\n",
    "    \n",
    "    Base case: Prove for n=1, n=2.\n",
    "\n",
    "For n=1,\n",
    "\n",
    "$\\sum_{i=1}^1 \\frac{1}{i(i+1)} = \\frac{1}{1(2)} = \\frac{1}{2}$\n",
    "\n",
    "$\\frac{1}{1+1} = \\frac{1}{2}$\n",
    "\n",
    "For n=2,\n",
    "\n",
    "$\\sum_{i=1}^2 \\frac{1}{i(i+1)} = \\frac{1}{1(2)} + \\frac{1}{2(2+1)} = \\frac{1}{2} + \\frac{1}{6} = \\frac{3}{6} + \\frac{1}{6} = \\frac{2}{3}$\n",
    "\n",
    "$\\frac{2}{2+1} = \\frac{2}{3}$\n",
    "\n",
    "    Inductive case: Assume P(k) is true and prove P(k+1).\n",
    "\n"
   ]
  },
  {
   "cell_type": "markdown",
   "id": "1eafbcb6",
   "metadata": {},
   "source": [
    "\n",
    "#### e. __Prove__ the following  for all $n ≥ 1$ __using weak induction__ :\n",
    "\n",
    "$$\\large (a+b)^n = \\sum_{r=0}^n \\binom{n}{r} a^{(n-r)}b^r$$\n",
    "\n",
    "__[12 points]__\n",
    "\n",
    "$$\\small recall: \\binom{n}{k} = \\dfrac{n!}{k!(n-k)!}$$\n",
    "\n",
    "\n",
    "$response$\n"
   ]
  },
  {
   "cell_type": "markdown",
   "id": "c797198e",
   "metadata": {},
   "source": [
    "-----\n",
    "\n",
    "-----\n",
    "\n",
    "-----"
   ]
  },
  {
   "cell_type": "markdown",
   "id": "73034618",
   "metadata": {},
   "source": [
    "## Question 2 (30) - Counting, permutations and Combinations \n",
    "#### [Section 6.1-6.3 in the slides]\n",
    "\n",
    "#### __Show your steps__\n",
    "\n",
    "----"
   ]
  },
  {
   "cell_type": "markdown",
   "id": "1429df5b",
   "metadata": {},
   "source": [
    "####  a) How many different license plates can be made if each plate contains a sequence of 4 lowercase English letters followed by 2 digits(0-9), followed by 1 uppercase English letter?\n",
    "\n",
    "__[2 points]__\n",
    "\n",
    "    There are 26 letters in the English alphabet to choose from and 10 digits to choose from.\n",
    "    Therefore, 26 * 26 * 26 * 26 * 10 * 10 * 26 = 1188137600 different license plates."
   ]
  },
  {
   "cell_type": "markdown",
   "id": "9349fc0d",
   "metadata": {},
   "source": [
    "####  b) How many different words (including nonsense words) can you make by rearranging the letters of the word \"MISSISSIPPI \" ?\n",
    "\n",
    "__[3 points]__\n",
    "\n",
    "    Number of 11-letter words:  11 * 10 * 9 * 8 * 7 * 6 * 5 * 4 * 3 * 2 * 1 = 39916800\n",
    "    By the product rule, there are a total of 39916800 different words made by rearranging the letters of \"MISSISSIPPI.\"\n",
    "\n"
   ]
  },
  {
   "cell_type": "markdown",
   "id": "514faf98",
   "metadata": {},
   "source": [
    "####  c) Suppose we have the word “COUNTER”, how many ways can we rearrange the letters, if we require the last letter to be \"T\"?\n",
    "\n",
    "__[4 points]__\n",
    "\n",
    "    Letter options to choose from {\"C\", \"O\", \"U\", \"N\", \"E\", \"R\"}, last letter will always be \"T\", therefore, there is 6 letters to choose from first (because we exclude \"T\"), then 5 after choosing 1, then 4, finally, 1 and then add \"T\".\n",
    "     \n",
    "    Number of words = 6 * 5 * 4 * 3 * 2 * 1 = 720\n",
    "    By the product rule, there are a total of 720 different combinations by rearranging the letters of \"COUNTER\" requiring the last letter to be \"T.\""
   ]
  },
  {
   "cell_type": "markdown",
   "id": "d5177e3f",
   "metadata": {},
   "source": [
    "####  d.  Suppose we have the word “CLIPBOARD”, How many words can be created if we require the last letter to be “P” or the first letter to be “R”?\n",
    "__[4 points]__\n",
    "\n",
    "    Letter options to choose from {\"C\", \"L\", \"I\", \"B\", \"O\", \"A\", \"R\", \"D\"} because last letter has to be \"P\", there is 8 letters to choose from first, until there is only one letter left and then add \"T\".\n",
    "    Number of words requiring last letter to be \"P\" = 8 * 7 * 6 * 5 * 4 * 3 * 2 * 1 = 40320\n",
    "\n",
    "    Letter options to choose from is every letter except \"R\" because first letter has to be \"R\", we start with \"R\", and then have 8 letters to choose from, until there is only one letter left.\n",
    "    Number of words requiring first letter to be \"R\" = 8 * 7 * 6 * 5 * 4 * 3 * 2 * 1 = 40320\n",
    "\n",
    "    Total number of words = 40320 + 40320 = 80640 words\n",
    "\n",
    "    By the product and sum rule, the number of words created if \"P\" needs to be the last letter or the firs letter needs to be \"R\" is 80640 different words."
   ]
  },
  {
   "cell_type": "markdown",
   "id": "9ae6764a",
   "metadata": {},
   "source": [
    "##### e. Suppose there are 195 countries in the world. At least how many people do we need in a room to guarantee that there are 3 people from the same country? Use the pigeon hole principle and show your steps.\n",
    "\n",
    "__[5 points]__\n",
    "\n",
    "    To have 2 people from the same country, assuming the worst case scenario that the first 195 people don't share the same country (all pidgeon holes are filled), we need 1 more, which makes it 196 people, guaranteeing that one pidgeon hole will have two pidgeons because there are more pidgeons than pidgeon holes. Therefore, to have 3 people from the same country, assuming the worst case scenario, that the first 2(195)=390 people results in each country having only two people from the same country, we need to add 1 more person, which makes it 391 people.\n",
    "\n",
    "Using the equation:\n",
    "$\\lceil x/195 \\rceil$ = 3\n",
    "\n",
    "    x = 391 people\n",
    "\n",
    "    Therefore, we need at least 391 people to guarantee that 3 people come from the same country."
   ]
  },
  {
   "cell_type": "markdown",
   "id": "021c0cb5",
   "metadata": {},
   "source": [
    "####  f. A company has 7 distinct job positions and 11 qualified candidates. The company wants to fill all 7 positions with 7 different candidates. In how many ways can the company fill the 7 positions given they will 100% hire _Susan_?\n",
    "\n",
    "__[5 points]__\n",
    "\n",
    "    Knowing that Susan will have one of the positions, there are 6 distinct positions left and 10 candidates left. For the some x position, Susan will be chosen. Then, when choosing the first candidate for the first position that is not Susan's, there are 10 candidates to choose from. Then, 9, then 8, until there is only one position left, but 5 candidates to choose from. Because there are 7 different positions, we repeat the same process for each of the remaining positions.\n",
    "\n",
    "    Number of ways to fill positions giving Susan position 1 = 10 * 9 * 8 * 7 * 6 * 5 = 151200 ways\n",
    "    Number of ways to fill positions giving Susan position 2 = 10 * 9 * 8 * 7 * 6 * 5 = 151200 ways\n",
    "\n",
    "    ... (Number of ways to fill positions giving Susan position x = 10 * 9 * 8 * 7 * 6 * 5 = 151200 ways)\n",
    "\n",
    "    Number of ways to fill positions giving Susan position 7 = 10 * 9 * 8 * 7 * 6 * 5 = 151200 ways\n",
    "\n",
    "    Total number of ways for any given position to Susan = 7(151200) = 1058400 different ways\n",
    "\n",
    "    Therefore, by the product and sum rule, there are a total of 105840 different ways to fill the 7 positions given they will 100% hire Susan."
   ]
  },
  {
   "cell_type": "markdown",
   "id": "122e30e0",
   "metadata": {},
   "source": [
    "####  g. The company finds that _Cody_ and _Shota_ will not work together under  any circumstance. Susan(being a top candidate) also demands as part of her package that she will only sign if __Paul(also one of the 11)__ is hired as her assistant. the company has no choice but to hire __Paul__  so they get __Susan__.  In how many ways can they fill the 7 positions given these extra contraints?\n",
    "\n",
    "__[7 points]__\n",
    "\n",
    "    Because Susan is guaranteed to be hired, Paul is therefore also guaranteed to get hired. Now, there are 5 positions left to fill with 9 candidates left.\n",
    "\n",
    "    If Cody gets hired, then Shota should not be hired. Therefore, the number of candidates to choose from after Cody is given a position is 7 (the 9 remaining after Susan and Paul get hired minus Cody and Shota) candidates. Then, 6, until for the final position, there are 4 candidates left.\n",
    "\n",
    "    By the product rule, the number of ways to fill the remaining positions will be given by:\n",
    "    Number of ways to fill remaining position given that Cody is given position 1 = 7 * 6 * 5 * 4 = 840\n",
    "    Number of ways to fill remaining position given that Cody is given position 2 = 7 * 6 * 5 * 4 = 840\n",
    "    ...\n",
    "    Number of ways to fill remaining position given that Cody is given position 7 = 7 * 6 * 5 * 4 = 840\n",
    "\n",
    "    Number of ways to fill remianing postions given that Cody is hired = 7(840) = 5880 different ways\n",
    "\n",
    "    If Shota gets hired, then Cody should not be hired. The number of ways to fill the remaining positions given that Shota is hired is the same as that of the number of ways if Cody is hired.\n",
    "\n",
    "    Therefore, by the product and sum rule, the total number of ways to fill the 7 positions given these extra constraints is 5880 + 5880 = 11760 different ways."
   ]
  },
  {
   "cell_type": "markdown",
   "id": "b68222e6",
   "metadata": {},
   "source": [
    "-----\n",
    "-----\n",
    "-----"
   ]
  },
  {
   "cell_type": "markdown",
   "id": "1d512b45",
   "metadata": {},
   "source": [
    "## Question 3 (10) - Recursive Definition\n",
    "\n",
    "----"
   ]
  },
  {
   "cell_type": "markdown",
   "id": "5547db69",
   "metadata": {},
   "source": [
    "#### a. Explain what you understand by recursion and give a nature-inspired, or meme like example of recursion.\n",
    "\n",
    "__[3 points]__\n",
    "\n",
    "    Recursion is taking a problem and dividing it into smaller problems until a base case is reached or where we can solve the problem. Then using the known solutions to the smaller problems to solve the bigger problems using the same steps. For example, n! is the same as n * (n-1)!, and then we keep going until we know that 0! is 1. Because of the repition in recursion, every loop can be rewritten as a recursive function and vice versa. One example of recursion in nature is cell division. At the start there is one cell. Then, it divides into two cells, then each cell divides into two cells (total of 4 cells), and so on."
   ]
  },
  {
   "cell_type": "markdown",
   "id": "f70af965",
   "metadata": {},
   "source": [
    "#### a. Give a recursive definition of the set $S$ of positive integers congruent to 5 mod 9\n",
    "\n",
    "__[3 points]__\n",
    "\n",
    "Base case:\n",
    "$5 \\in S$\n",
    "\n",
    "    The first positive integer congruent to 5 mod 9 is 5.\n",
    "\n",
    "Recursive step: \n",
    "$(k + 9) \\in S$\n",
    "\n",
    "    Becasue 9 mod 9 is 0, then any positive integer x + 9, starting with x=5, will be congruent to 5 mod 9."
   ]
  },
  {
   "cell_type": "markdown",
   "id": "c07b1957",
   "metadata": {},
   "source": [
    "#### b. Define a set of positive integers, $S$, recursively, such that $S$ contains all positive integers that are congruent to 4 mod 7, and are not divisible by 8.\n",
    "\n",
    "__[4 points]__\n",
    "\n",
    "Base case:\n",
    "$4 \\in S$\n",
    "\n",
    "    The first positive integer congruent to 4 mod 7 and not divisible by 8 is 4.\n",
    "\n",
    "Recursive step:\n",
    "$(k + 7) \\in S$, where k+7 is not divisible by 8. If k+7 is divisible by 8, skip the number.\n",
    "\n",
    "    Because 7 mod 7 is 0, then any positive integer k + 7, starting with x=4, will be congruent to 4 mod 7. However, we should skip the numbers where k + 7 is divisible by 8 to fulfill the second half, where all the elements in set S is, in addition to being congruent to 4 mod 7, is not divisible by 8."
   ]
  },
  {
   "cell_type": "markdown",
   "id": "4ed94c83",
   "metadata": {},
   "source": [
    "-----\n",
    "-----\n",
    "-----"
   ]
  },
  {
   "cell_type": "markdown",
   "id": "a5d2c352",
   "metadata": {},
   "source": [
    "## Question 4 (30) - Coding Excercises\n",
    "\n",
    "#### _make sure your output is showing when you submit._\n",
    "\n",
    "----\n"
   ]
  },
  {
   "cell_type": "markdown",
   "id": "0a06999f",
   "metadata": {},
   "source": [
    "#### a.  Given a list of integers with values ranging from 1 to $n$, where $n$ is the length of the list, write a function to find the integers that appear more than once in the list. your algorithm needs to run in $O(n)$ time complexity. \n",
    "\n",
    "use $[1,5,3,5,6,2,1]$, and  $[2,5,3,6,3,3,4,6,7,14,14,8,3,5,12,5]$ to as test your code\n",
    "\n",
    "__[6 points]__"
   ]
  },
  {
   "cell_type": "code",
   "execution_count": 1,
   "id": "62a94f9b",
   "metadata": {},
   "outputs": [
    {
     "name": "stdout",
     "output_type": "stream",
     "text": [
      "[1, 5]\n",
      "[3, 5, 6, 14]\n"
     ]
    }
   ],
   "source": [
    "def find_duplicates(list_of_integers):\n",
    "    integers = [0 for k in range(len(list_of_integers))]\n",
    "    list_of_duplicates = []\n",
    "\n",
    "    for i in list_of_integers:\n",
    "        integers[i] = integers[i] + 1\n",
    "\n",
    "    for i in range(0, len(list_of_integers)):\n",
    "        if integers[i] > 1:\n",
    "            list_of_duplicates.append(i)\n",
    "\n",
    "    return list_of_duplicates\n",
    "\n",
    "# Test your code\n",
    "print(find_duplicates([1,5,3,5,6,2,1]))                         ## 5, 1\n",
    "print(find_duplicates([2,5,3,6,3,3,4,6,7,14,14,8,3,5,12,5]))    ## 3, 6, 14, 5"
   ]
  },
  {
   "cell_type": "markdown",
   "id": "0dbc5070",
   "metadata": {},
   "source": [
    "##### b. Given an unsorted array of integers(both positive and negative) explain in words how you would use the pigeonhole principle to find the minimum positive integer that is missing.\n",
    "\n",
    "__[3 points]__\n",
    "\n",
    "    First, find the maximum value of the array. Then, create an array the same size as the number of positive integers up to the maximum value (1-max_value) where each element is 0. Then, go through the given array and for each positive integer in the array (x>0), mark the values found by changing the value to 1 of the index of the created array (where index=value found). Ignoring the first element of the created array (index 0), the first element that still has a value of 0 is the first minimum positive integer that is missing."
   ]
  },
  {
   "cell_type": "markdown",
   "id": "6cae23c5",
   "metadata": {},
   "source": [
    "#### c. Following your response in (b), write a function to find the minimum positive integer that is missing in $O(n)$ time complexity. \n",
    "\n",
    "use $[3,9,2,-3,-5,1,9,6,4,8,72,5]$ and $[17,64,4,2,1,-3,76,-1,-5,16,13,9,10,18]$ as test cases\n",
    "\n",
    "__[6 points]__"
   ]
  },
  {
   "cell_type": "code",
   "execution_count": 8,
   "id": "c858d65c",
   "metadata": {},
   "outputs": [
    {
     "name": "stdout",
     "output_type": "stream",
     "text": [
      "7\n",
      "3\n"
     ]
    }
   ],
   "source": [
    "def find_minimum_positive(list_of_integers):\n",
    "    minimum_positive = None\n",
    "    maximum_value = max(list_of_integers)\n",
    "\n",
    "    array = [0 for i in range(maximum_value+1)]\n",
    "\n",
    "    for i in list_of_integers:\n",
    "        \n",
    "        if i > 0:\n",
    "            array[i] = 1\n",
    "    \n",
    "    for i in range(1, len(array)):\n",
    "        if array[i] == 0:\n",
    "            return i\n",
    "\n",
    "    return minimum_positive\n",
    "\n",
    "# Test your code\n",
    "print(find_minimum_positive([3,9,2,-3,-5,1,9,6,4,8,72,5]))                  ## 7\n",
    "print(find_minimum_positive([17,64,4,2,1,-3,76,-1,-5,16,13,9,10,18]))       ## 3"
   ]
  },
  {
   "cell_type": "markdown",
   "id": "c6f34f49",
   "metadata": {},
   "source": [
    "#### d. We want to calculate $4C2, 15C3, 12C5, 10C7$.  We also want to calculate $13P6, 23P20$. Follow the steps below:\n",
    "\n",
    "1. Write a __recursive function__ $factorial(n)$ that takes an integer $n$ and returns $n!$, recall $n! = n\\times(n-1)\\times(n-2)\\times....\\times1$\n",
    "2. Write a funtion $combination(n,r)$ that uses (calls) the factorial function in (1) to find $nCr$, recall that $nCr = \\frac{n!}{r!(n-r)!}$\n",
    "3. Write a function $permutarion(n,r)$ that uses (calls) the factorial function in (1) to find $nPr$, recall that $nPr = \\frac{n!}{(n-r)!}$\n",
    "\n",
    "** _If you cant implement the recursive factorial, you will still get partial credit for the iterative factorial__ **\n",
    "\n",
    "__[15 points]__\n"
   ]
  },
  {
   "cell_type": "code",
   "execution_count": 10,
   "id": "f4a70871",
   "metadata": {},
   "outputs": [
    {
     "name": "stdout",
     "output_type": "stream",
     "text": [
      "120\n"
     ]
    }
   ],
   "source": [
    "def factorial(n):\n",
    "    if n == 0:\n",
    "        return 1\n",
    "    \n",
    "    return n * factorial(n-1)\n",
    "\n",
    "# Test your code\n",
    "print(factorial(5))\n",
    "#This should give 120"
   ]
  },
  {
   "cell_type": "code",
   "execution_count": 11,
   "id": "a262a08e",
   "metadata": {},
   "outputs": [
    {
     "name": "stdout",
     "output_type": "stream",
     "text": [
      "10.0\n"
     ]
    }
   ],
   "source": [
    "def combination(n, r):\n",
    "    result = 0\n",
    "    numerator = factorial(n)\n",
    "    rFactorial = factorial(r)\n",
    "    otherFactorial = factorial(n-r)\n",
    "\n",
    "    result = numerator / (rFactorial * otherFactorial)\n",
    "    \n",
    "    return result\n",
    "\n",
    "# Test your code\n",
    "print(combination(5, 2))\n",
    "#This should give 10"
   ]
  },
  {
   "cell_type": "code",
   "execution_count": 12,
   "id": "dfcd1c1d",
   "metadata": {},
   "outputs": [
    {
     "name": "stdout",
     "output_type": "stream",
     "text": [
      "20.0\n"
     ]
    }
   ],
   "source": [
    "def permutation(n, r):\n",
    "    result = 0\n",
    "    numerator = factorial(n)\n",
    "    denominator = factorial(n-r)\n",
    "\n",
    "    result = numerator / denominator\n",
    "    \n",
    "    return result\n",
    "\n",
    "# Test your code\n",
    "print(permutation(5, 2))\n",
    "#This should give 20"
   ]
  },
  {
   "cell_type": "markdown",
   "id": "d95f2e41",
   "metadata": {},
   "source": [
    "### Run these for results"
   ]
  },
  {
   "cell_type": "code",
   "execution_count": 14,
   "id": "8bc5931c",
   "metadata": {},
   "outputs": [
    {
     "name": "stdout",
     "output_type": "stream",
     "text": [
      "combination results\n",
      "********************\n",
      "6.0\n",
      "455.0\n",
      "792.0\n",
      "120.0\n",
      "********************\n"
     ]
    }
   ],
   "source": [
    "print(\"combination results\")\n",
    "print(\"*\"*20)\n",
    "print(combination(4, 2))        ## 6\n",
    "print(combination(15, 3))       ## 455\n",
    "print(combination(12, 5))       ## 792\n",
    "print(combination(10, 7))       ## 120\n",
    "print(\"*\"*20)"
   ]
  },
  {
   "cell_type": "code",
   "execution_count": 16,
   "id": "e5e095a1",
   "metadata": {},
   "outputs": [
    {
     "name": "stdout",
     "output_type": "stream",
     "text": [
      "permutation results\n",
      "********************\n",
      "1235520.0\n",
      "4.3086694564808297e+21\n",
      "********************\n"
     ]
    }
   ],
   "source": [
    "print(\"permutation results\")\n",
    "print(\"*\"*20)\n",
    "print(permutation(13, 6))       ## 1235520\n",
    "print(permutation(23, 20))      ## 4.3086694564808297e+21\n",
    "print(\"*\"*20)"
   ]
  },
  {
   "cell_type": "markdown",
   "id": "15298199",
   "metadata": {},
   "source": [
    "-----\n",
    "-----\n",
    "-----"
   ]
  },
  {
   "attachments": {},
   "cell_type": "markdown",
   "id": "c50f3a59",
   "metadata": {},
   "source": [
    "                    ########## Thanks for the semester!!!"
   ]
  }
 ],
 "metadata": {
  "kernelspec": {
   "display_name": "Python 3 (ipykernel)",
   "language": "python",
   "name": "python3"
  },
  "language_info": {
   "codemirror_mode": {
    "name": "ipython",
    "version": 3
   },
   "file_extension": ".py",
   "mimetype": "text/x-python",
   "name": "python",
   "nbconvert_exporter": "python",
   "pygments_lexer": "ipython3",
   "version": "3.11.0"
  }
 },
 "nbformat": 4,
 "nbformat_minor": 5
}
