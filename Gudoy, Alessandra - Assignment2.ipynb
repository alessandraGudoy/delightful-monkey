{
 "cells": [
  {
   "cell_type": "markdown",
   "id": "89c507e7",
   "metadata": {},
   "source": [
    "\n",
    "# <span style = \"color:blue\"> ICS 141: Fall 2023</span>\n",
    "\n",
    "## <span style = \"color:blue\"> Assignment 2 [Mostly based on chapter 4]</span>\n",
    "\n",
    "\n",
    "    Student name: Alessandra Gudoy\n",
    "    \n",
    "    \n",
    " \n",
    "##### <span style='color:red'>Grading breakbown:</span>\n",
    "\n",
    "<span style='color:orange'>1. Theory - 60</span>\n",
    "\n",
    "\n",
    "<span style='color:orange'>2. Code - 40</span>\n",
    "\n",
    "\n",
    "-----"
   ]
  },
  {
   "cell_type": "markdown",
   "id": "6f956f4b",
   "metadata": {},
   "source": [
    "## Question 1 (20):[chapter 4 slide #52, 54 example proofs]\n",
    "\n",
    "Prove or disprove, __in detail__ the following, for integers a, b, c and d:\n",
    "\n",
    "a. If $a|b$ and $a|c$, then $a|(b + c)$.\n",
    "\n",
    "       Hint: Direct proof [Ch4 slide #7]\n",
    "\n",
    "b. If $a|bc$ and $gcd(a, b) = 1$, then $a|c$.\n",
    "\n",
    "       Hint: Direct proof using Bézout's identity [Ch4 slide #54]\n",
    "\n",
    "c. If $a$ and $b$ are perfect squares and $a|b$, then $\\sqrt a|\\sqrt b$.\n",
    "\n",
    "        Hint: Proof by contradiction using the fundamental theorem of arithmetic[chapter 4 slide #37]\n",
    "\n",
    "\n",
    "d. If $ab|cd$, then $a|c$ or $a|d$.\n",
    "\n",
    "        Hint: Proof by counter-example (since statement is for all integers a,b,c,d so finding a counter example is enough to disprove[but not to prove])\n",
    "\n",
    "\n",
    "-----"
   ]
  },
  {
   "attachments": {},
   "cell_type": "markdown",
   "id": "80b44c1e",
   "metadata": {},
   "source": [
    "## Question 2 (20)\n",
    "\n",
    "a. Prove or disprove that $n! = O(2^n)$...........(5)\n",
    "\n",
    "        hint use contradiction\n",
    "\n",
    "\n",
    "\n",
    "b. Prove or disprove that $n^\\frac{1}{2} = O(log(n)^3)$........(5)\n",
    "\n",
    "        hint use contradiction\n",
    "\n",
    "\n",
    "c. You are given an unsorted array of n integers, where each integer is between 1 and n (inclusive). The array contains some duplicates, but not all integers are necessarily present. Design an algorithm to find all the missing integers in the array, with a worst-case runtime of O(n)..........10\n",
    "\n",
    "    ```python\n",
    "    def find_missing(list_of_nums):\n",
    "            #define a new list of same size as list_of_nums and put all zeros in it\n",
    "            new_list =[0 for k in range(len(list_of_nums))]\n",
    "            #go trhough the given list and for each number you see, edit (number-1)th index of new list\n",
    "            for k in list_of_nums:\n",
    "                new_list[k-1] = -1\n",
    "            #at the end whatever index in new_list that wast changed, was missing in the given list\n",
    "            # Now go through new list and print out whatever index+1 that still contains a zero\n",
    "            return [k+1 for k in range(new_list) if new_list[k]==0]  \n",
    "    ```\n",
    "    \n",
    "\n",
    "Implement and test your function in python yoursing lists, $[1,3,7,3,6,5,8,3], [1,5,5,1,15,12,12,12,12,1,4,6,13,12,4,10,2]$\n",
    "\n",
    "-----"
   ]
  },
  {
   "cell_type": "code",
   "execution_count": null,
   "id": "490b4994",
   "metadata": {},
   "outputs": [],
   "source": [
    "\n",
    "def missing_numbers(List_of_numbers):\n",
    "    #Write your code here\n",
    "    missing = []\n",
    "\n",
    "    return missing\n"
   ]
  },
  {
   "cell_type": "code",
   "execution_count": null,
   "metadata": {},
   "outputs": [],
   "source": [
    "   \n",
    "print(missing_numbers([1,3,7,3,6,5,8,3]))\n",
    "print(missing_numbers([1,5,5,1,15,12,12,12,12,1,4,6,13,12,4,10,2]))"
   ]
  },
  {
   "cell_type": "markdown",
   "id": "b29f1f39",
   "metadata": {},
   "source": [
    "## Question 3 (20) [Chapter 4 slide #82]\n",
    "\n",
    "* A common method of detecting errors in strings of digits is to add an extra digit at the end, which is evaluated using a function. If the final digit is not correct, then the string is assumed not to be correct. Example: Retail products are identified by their Universal Product Codes (UPCs). Usually these have 12 decimal digits, the last one being the check digit. The check digit is determined by the congruence:\n",
    "\n",
    "    $3x_{1}  + 7x_{2}  + 2x_{3}  + x_{4}  + 3x_{5}  + x_{6}  + 3x_{7}  + x_{8}  + 5x_{9} + x_{10}  + 3x_{11}  + x_{12} ≡ 0 (mod 10)$.\n",
    "\n",
    "\n",
    "**For each question show your workings, not just the answer.**\n",
    "\n",
    "\n",
    "A.  Suppose the first $11$ digits are $66340534853$, what is the check digit?..... (3)\n",
    "\n",
    "\n",
    "B.  Suppose the first $11$ digits are $79357343104$, what is the check digit?..... (3)\n",
    "\n",
    "\n",
    "C.  Are $047331021646$ and $547343002336$ valid UPCs under the following congruence:\n",
    "\n",
    "$x_{1}  + 3x_{2}  + 2x_{3}  + x_{4}  + 3x_{5}  + 2x_{6}  + 3x_{7}  + x_{8}  + 5x_{9} + 3x_{10}  + 3x_{11}  + 3x_{12} ≡ 0 (mod 10)$? ...............................(4)\n",
    "\n",
    "  \n"
   ]
  },
  {
   "cell_type": "markdown",
   "id": "4e91f068",
   "metadata": {},
   "source": [
    "D. Implement a function that finds the last check digit using congruence;\n",
    "$3x_{1}  + 7x_{2}  + 2x_{3}  + x_{4}  + 3x_{5}  + x_{6}  + 3x_{7}  + x_{8}  + 5x_{9} + x_{10}  + 3x_{11}  + x_{12} ≡ 0 (mod 10)$\n",
    "given the first 11 digits stored in a string as input,\n",
    " eg: '99284792783'. (Do not use predefined functions or operators that perform this specific task)  use \"79357343104\", \"34553463334\" and \"66340534853\" to test your function............................................................(5)\n",
    " \n",
    "\n"
   ]
  },
  {
   "cell_type": "code",
   "execution_count": null,
   "id": "f10f8ef0",
   "metadata": {},
   "outputs": [],
   "source": [
    "import math\n",
    "def check_degit(first_11, congruence_coefficients = [3,7,2,1,3,1,3,1,5,1,3,1]):\n",
    "    ## Wtite your code here, make changes to the function.\n",
    "    return 0"
   ]
  },
  {
   "cell_type": "markdown",
   "id": "f38b75fc",
   "metadata": {},
   "source": [
    "E.  Write a function to test if a given string of $12$ digits is a valid  UPC based on the congruence: $x_{1}  + 3x_{2}  + 2x_{3}  + x_{4}  + 3x_{5}  + 2x_{6}  + 3x_{7}  + x_{8}  + 5x_{9} + 3x_{10}  + 3x_{11}  + 3x_{12} ≡ 0 (mod 10)$. The function returns **true** or **false** based on the result. Use $047331021646$ , $547343002336$ and $519343222336$ to test your code ..............................................................................(5)"
   ]
  },
  {
   "cell_type": "code",
   "execution_count": 46,
   "id": "66988e3d",
   "metadata": {},
   "outputs": [],
   "source": [
    "import math\n",
    "\n",
    "def Is_Valid_UPC(digits_12, congruence_coefficients = [1,3,2,1,3,2,3,1,5,3,3,3]):\n",
    "    # the input digits_12 is a string containing digits\n",
    "\n",
    "    # if string is less than 12, then input not valid\n",
    "    if len(digits_12) != 12:\n",
    "        return False\n",
    "\n",
    "    digits_12 = int(digits_12)      # turn input string into integer\n",
    "    result = 0                      # variable to store sum of product of digits and coefficients\n",
    "\n",
    "\n",
    "    for i in range(0, len(congruence_coefficients)):                        # for each digit\n",
    "        result = result + (digits_12%10 * congruence_coefficients[i])       # add to result product of digit and corresponding coefficient\n",
    "        digits_12 = math.floor(digits_12 / 10)                              # divide input string by 10 to previous digit accessible in net iteration\n",
    "    \n",
    "    # print(result)\n",
    "\n",
    "    return result%10 == 0           # check if UPC is valid => result congruent to 0 (mod 10)"
   ]
  },
  {
   "cell_type": "code",
   "execution_count": 47,
   "metadata": {},
   "outputs": [
    {
     "name": "stdout",
     "output_type": "stream",
     "text": [
      "False\n",
      "False\n",
      "False\n"
     ]
    }
   ],
   "source": [
    "print(Is_Valid_UPC('047331021646'))\n",
    "print(Is_Valid_UPC('547343002336'))\n",
    "print(Is_Valid_UPC('519343222336'))"
   ]
  },
  {
   "cell_type": "markdown",
   "id": "67820769",
   "metadata": {},
   "source": [
    "-----"
   ]
  },
  {
   "cell_type": "markdown",
   "id": "b3d5dc22",
   "metadata": {},
   "source": [
    "## Question 4 (20)[Chapter 4 slide #20-29]\n",
    "\n",
    "__Part 1, [show your steps] (10)__\n",
    "\n",
    "a. Convert the binary number $1011101101$ to its hexadecimal equivalent.\n",
    "\n",
    "\n",
    "\n",
    "b. What is the decimal equivalent of the binary number $1110100101$?\n",
    "\n",
    "\n",
    "\n",
    "c. Convert the hexadecimal number $2A$ to its binary equivalent.\n",
    "\n",
    "\n",
    "d. What is the binary equivalent of the decimal number $63$?\n",
    "\n",
    "\n",
    "\n",
    "e. Convert the octal number $72634$ to its hexadecimal equivalent.\n",
    "\n",
    "\n",
    "\n",
    "__Part 2 (10)__\n",
    "\n",
    "a. Following pseudocode on slide #30, implement a function to perform binary addition. The function takes two integers as inputs, and returns the binary representation of the sum of the two numbers as a string. Note that the addition has to be performed using the binary representations of the two integers, meaning you can not do '5+8 = 13' then return the binary representation of 13. Use the following pairs to test your code: $(24,98), (2387482,1), (25,25)$\n",
    "\n",
    "-----"
   ]
  },
  {
   "cell_type": "code",
   "execution_count": null,
   "id": "1f79553f",
   "metadata": {},
   "outputs": [],
   "source": [
    "def binary_addition(x,y):\n",
    "    #write your code here\n",
    "    result =0\n",
    "\n",
    "    return result\n",
    "\n"
   ]
  },
  {
   "cell_type": "code",
   "execution_count": null,
   "metadata": {},
   "outputs": [],
   "source": [
    "print(binary_addition(24,98))\n",
    "print(binary_addition(25,25))"
   ]
  },
  {
   "cell_type": "markdown",
   "metadata": {},
   "source": [
    "-----"
   ]
  },
  {
   "cell_type": "markdown",
   "id": "6d9d5dd4",
   "metadata": {},
   "source": [
    "## Question 5 [Chapter 4 slide #87,88] (20)\n",
    "\n",
    "Julius Caesar created secret messages by shifting each letter three letters forward in the alphabet (sending the last three letters to the first three letters.) For example, the letter B is replaced by E and the letter X is replaced by A. This process of making a message secret is an example of encryption.\n",
    "\n",
    "__Part 1 [show your steps] (15)__\n",
    "\n",
    "Encrypt the following messages using Caesar cipher\n",
    "\n",
    "a. \"Meet you in the park\"\n",
    "    \n",
    "       \n",
    "b. \"I am reading a book on the history of glue. I just can not seem to put it down\"\n",
    "\n",
    "\n",
    "c. \"I like ths class\"\n",
    "\n",
    "\n",
    "__Part 2 [show your steps] (5)__\n",
    "\n",
    "a. Encrypt the message “Why do scientists not trust atoms? Because they make up everything.” using the __shift cipher__ with k = 9\n",
    "\n",
    "    \n",
    "-----"
   ]
  }
 ],
 "metadata": {
  "kernelspec": {
   "display_name": "Python 3 (ipykernel)",
   "language": "python",
   "name": "python3"
  },
  "language_info": {
   "codemirror_mode": {
    "name": "ipython",
    "version": 3
   },
   "file_extension": ".py",
   "mimetype": "text/x-python",
   "name": "python",
   "nbconvert_exporter": "python",
   "pygments_lexer": "ipython3",
   "version": "3.11.0"
  },
  "vscode": {
   "interpreter": {
    "hash": "7ca6d61833d68ba87d904fbc4a4261fe90b3a7f0c150abd250a19ca497febe26"
   }
  }
 },
 "nbformat": 4,
 "nbformat_minor": 5
}
