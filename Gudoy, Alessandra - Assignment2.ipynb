{
 "cells": [
  {
   "cell_type": "markdown",
   "id": "89c507e7",
   "metadata": {},
   "source": [
    "\n",
    "# <span style = \"color:blue\"> ICS 141: Fall 2023</span>\n",
    "\n",
    "## <span style = \"color:blue\"> Assignment 2 [Mostly based on chapter 4]</span>\n",
    "\n",
    "\n",
    "    Student name: Alessandra Gudoy\n",
    "    \n",
    "    \n",
    " \n",
    "##### <span style='color:red'>Grading breakbown:</span>\n",
    "\n",
    "<span style='color:orange'>1. Theory - 60</span>\n",
    "\n",
    "\n",
    "<span style='color:orange'>2. Code - 40</span>\n",
    "\n",
    "\n",
    "-----"
   ]
  },
  {
   "cell_type": "markdown",
   "id": "6f956f4b",
   "metadata": {},
   "source": [
    "## Question 1 (20):[chapter 4 slide #52, 54 example proofs]\n",
    "\n",
    "Prove or disprove, __in detail__ the following, for integers a, b, c and d:\n",
    "\n",
    "a. If $a|b$ and $a|c$, then $a|(b + c)$.\n",
    "\n",
    "        b + c = as + at = a(s + t)\n",
    "\n",
    "        If a|b and a|c, then there exists integers s and t that b=as and c=at. Then, b can be written as the product, as, while c can be written as at. Therefore, the sum, (b + c) can be rewritten as as + at. Because both operands, as and at have a common factor, a can be factored out by the distributive property. In other words, the sum of b and c have a pair of factors a and (s + t). Therefore, a divides the sum, (b + c), => a|(b + c).\n",
    "\n",
    "b. If $a|bc$ and $gcd(a, b) = 1$, then $a|c$.\n",
    "\n",
    "        Because a and b are relatively prime, then are integers s and t such that as + bt = 1 (Bezout's Identity). If we multiply the equation by c, it becomes asc + btc = c. Because a|bc and we know a|asc (a is a factor of asc), then a must divide btc because (from theorem 1) if x|y and x|z, then x|(y+z). \n",
    "        \n",
    "        Since c = asc + btc and a divides both asc and btc, then a|c.\n",
    "\n",
    "c. If $a$ and $b$ are perfect squares and $a|b$, then $\\sqrt a|\\sqrt b$.\n",
    "\n",
    "        According the fundamental theorem of arithmetic, each integer greater than 1 can be written as the product of at least two prime numbers. If a|b, then the factors of a must also be factors of b. By taking the square root of a and b, then the powers of each prime factors are halved by two, but still multiply together and exists as factors for both the square root of a and b. Therefore sqrt(a)|sqrt(b).\n",
    "\n",
    "\n",
    "d. If $ab|cd$, then $a|c$ or $a|d$.\n",
    "\n",
    "        Let a = 4, b = 5, c = 25, d = 5.\n",
    "\n",
    "        Then ab|cd = 4(5) | 25(5) = 20 | 100 is true. But a=4 does not divide c=25 or d=5. \n",
    "        \n",
    "        Therefore, even if ab|cd, a does not necessarily divide c or d. The statement is disproved.\n",
    "\n",
    "\n",
    "-----"
   ]
  },
  {
   "attachments": {},
   "cell_type": "markdown",
   "id": "80b44c1e",
   "metadata": {},
   "source": [
    "## Question 2 (20)\n",
    "\n",
    "a. Prove or disprove that $n! = O(2^n)$...........(5)\n",
    "\n",
    "        If n=7, 7!=5040 and 2^7=128, and 5040 is greater than 128. Therefore, 2^n does not contain n!.\n",
    "\n",
    "        As n grow to infinity, 2^n only multiplies by 2 infinitely many times. However, n! grows faster than 2^n for n>3, because n multiplies all the integers from 1 to n, inclusive, and as n grows towards infinity, n will be greater than 2.\n",
    "\n",
    "        Therefore, n! does not equal O(2^n).\n",
    "\n",
    "\n",
    "\n",
    "b. Prove or disprove that $n^\\frac{1}{2} = O(log(n)^3)$........(5)\n",
    "\n",
    "        If n=100, then the sqrt(100) = 10 and log(100)^3 = 8, and 10 is greater than 8.\n",
    "\n",
    "        The function sqrt(n) grows faster than the function log(n)^3. Therefore, O(log(n)^3) is not the upper bound of n^(1/2).\n",
    "        1 * 2 * 3 * ... * (n-1) * (n) > 2 * 2 * 2 * ... * 2, and every integer greater than 3 up to n is greater than 2.\n",
    "\n",
    "        Therefore, n^(1/2) does not equal O(log(n)^3).\n",
    "\n",
    "\n",
    "c. You are given an unsorted array of n integers, where each integer is between 1 and n (inclusive). The array contains some duplicates, but not all integers are necessarily present. Design an algorithm to find all the missing integers in the array, with a worst-case runtime of O(n)..........10\n",
    "\n",
    "```python\n",
    "    def find_missing(list_of_nums):\n",
    "            #define a new list of same size as list_of_nums and put all zeros in it\n",
    "            new_list =[0 for k in range(len(list_of_nums))]\n",
    "            #go trhough the given list and for each number you see, edit (number-1)th index of new list\n",
    "            for k in list_of_nums:\n",
    "                new_list[k-1] = -1\n",
    "            #at the end whatever index in new_list that wast changed, was missing in the given list\n",
    "            # Now go through new list and print out whatever index+1 that still contains a zero\n",
    "            return [k+1 for k in range(new_list) if new_list[k]==0]  \n",
    "```\n",
    "    \n",
    "\n",
    "Implement and test your function in python yoursing lists, $[1,3,7,3,6,5,8,3], [1,5,5,1,15,12,12,12,12,1,4,6,13,12,4,10,2]$\n",
    "\n",
    "-----"
   ]
  },
  {
   "cell_type": "code",
   "execution_count": 121,
   "id": "490b4994",
   "metadata": {},
   "outputs": [],
   "source": [
    "\n",
    "def missing_numbers(List_of_numbers):\n",
    "    missing = []\n",
    "    integers = [0 for k in range(len(List_of_numbers))]\n",
    "\n",
    "    for x in List_of_numbers:\n",
    "        integers[x-1] = 1\n",
    "\n",
    "    for i in range(0, len(integers)):\n",
    "        if integers[i] == 0:\n",
    "            missing.append(i+1)\n",
    "\n",
    "    return missing\n"
   ]
  },
  {
   "cell_type": "code",
   "execution_count": 122,
   "metadata": {},
   "outputs": [
    {
     "name": "stdout",
     "output_type": "stream",
     "text": [
      "[2, 4]\n",
      "[3, 7, 8, 9, 11, 14, 16, 17]\n"
     ]
    }
   ],
   "source": [
    "   \n",
    "print(missing_numbers([1,3,7,3,6,5,8,3]))\n",
    "print(missing_numbers([1,5,5,1,15,12,12,12,12,1,4,6,13,12,4,10,2]))"
   ]
  },
  {
   "cell_type": "markdown",
   "id": "b29f1f39",
   "metadata": {},
   "source": [
    "## Question 3 (20) [Chapter 4 slide #82]\n",
    "\n",
    "* A common method of detecting errors in strings of digits is to add an extra digit at the end, which is evaluated using a function. If the final digit is not correct, then the string is assumed not to be correct. Example: Retail products are identified by their Universal Product Codes (UPCs). Usually these have 12 decimal digits, the last one being the check digit. The check digit is determined by the congruence:\n",
    "\n",
    "    $3x_{1}  + 7x_{2}  + 2x_{3}  + x_{4}  + 3x_{5}  + x_{6}  + 3x_{7}  + x_{8}  + 5x_{9} + x_{10}  + 3x_{11}  + x_{12} ≡ 0 (mod 10)$.\n",
    "\n",
    "\n",
    "**For each question show your workings, not just the answer.**\n",
    "\n",
    "\n",
    "A.  Suppose the first $11$ digits are $66340534853$, what is the check digit?..... (3)\n",
    "\n",
    "    Let x = check digit\n",
    "\n",
    "    3(6) + 7(6) + 2(3) + 1(4) + 3(0) + 1(5) + 3(3) + 1(4) + 5(8) + 1(5) + 3(5) + x = 148 + x\n",
    "\n",
    "    To be congruent to 0 (mod 10), x needs to be 2 because 148 (mod 10) = 8, and adding 2 will result in 150, and 150 (mod 10) = 0\n",
    "\n",
    "    Therefore, check digit is 2.\n",
    "    \n",
    "\n",
    "\n",
    "B.  Suppose the first $11$ digits are $79357343104$, what is the check digit?..... (3)\n",
    "\n",
    "    Let x = check digit\n",
    "\n",
    "    3(7) + 7(9) + 2(3) + 1(5) + 3(7) + 1(3) + 3(4) + 1(3) + 5(1) + 1(0) + 3(4) + x = 151 + x\n",
    "\n",
    "    To be congruent to 0 (mod 10), x needs to be 9 because 151 (mod 10) = 1, and adding 9 will result in 160, and 160 (mod 10) = 0\n",
    "\n",
    "    Therefore, check digit is 9.\n",
    "\n",
    "C.  Are $047331021646$ and $547343002336$ valid UPCs under the following congruence:\n",
    "\n",
    "$x_{1}  + 3x_{2}  + 2x_{3}  + x_{4}  + 3x_{5}  + 2x_{6}  + 3x_{7}  + x_{8}  + 5x_{9} + 3x_{10}  + 3x_{11}  + 3x_{12} ≡ 0 (mod 10)$? ...............................(4)\n",
    "\n",
    "    1(0) + 3(4) + 2(7) + 1(3) + 3(3) + 2(1) + 3(0) + 1(2) + 5(1) + 3(6) + 3(4) + 3(6) = 95\n",
    "    No because, the sum of the digits and corresponding coeeficients equal to 95 and 95 (mod 10) = 5 which does not equal 0.\n",
    "\n",
    "    1(5) + 3(4) + 2(7) + 1(3) + 3(4) + 2(3) + 3(0) + 1(0) + 5(2) + 3(3) + 3(3) + 3(6) = 98\n",
    "    No because, the sum of the digits and corresponding coeeficients equal to 98 and 98 (mod 10) = 8 which does not equal 0.\n",
    "  \n"
   ]
  },
  {
   "cell_type": "markdown",
   "id": "4e91f068",
   "metadata": {},
   "source": [
    "D. Implement a function that finds the last check digit using congruence;\n",
    "$3x_{1}  + 7x_{2}  + 2x_{3}  + x_{4}  + 3x_{5}  + x_{6}  + 3x_{7}  + x_{8}  + 5x_{9} + x_{10}  + 3x_{11}  + x_{12} ≡ 0 (mod 10)$\n",
    "given the first 11 digits stored in a string as input,\n",
    " eg: '99284792783'. (Do not use predefined functions or operators that perform this specific task)  use \"79357343104\", \"34553463334\" and \"66340534853\" to test your function............................................................(5)\n",
    " \n",
    "\n"
   ]
  },
  {
   "cell_type": "code",
   "execution_count": 123,
   "id": "f10f8ef0",
   "metadata": {},
   "outputs": [],
   "source": [
    "import math\n",
    "def check_digit(first_11, congruence_coefficients = [3,7,2,1,3,1,3,1,5,1,3,1]):\n",
    "    \n",
    "    first_11 = int(first_11)        # turn input string into integer\n",
    "    result = 0                      # variable to store sum of product of digits and coefficiencts\n",
    "\n",
    "    for i in range(0, 11):          # for each digit\n",
    "        result = result + (first_11%10)*congruence_coefficients[len(congruence_coefficients)-2-i]       # add to result product of digit and corresponding coefficient\n",
    "        first_11 = math.floor(first_11/10)                                                              # divide input by 10 so previous digit is accessible in next iteration\n",
    "\n",
    "    return 10-(result%10)           # return the remaining digit to make result divisible by 10"
   ]
  },
  {
   "cell_type": "code",
   "execution_count": 124,
   "metadata": {},
   "outputs": [
    {
     "name": "stdout",
     "output_type": "stream",
     "text": [
      "9\n",
      "4\n",
      "8\n"
     ]
    }
   ],
   "source": [
    "print(check_digit('79357343104'))\n",
    "print(check_digit('34553463334'))\n",
    "print(check_digit('66340534853'))"
   ]
  },
  {
   "cell_type": "markdown",
   "id": "f38b75fc",
   "metadata": {},
   "source": [
    "E.  Write a function to test if a given string of $12$ digits is a valid  UPC based on the congruence: $x_{1}  + 3x_{2}  + 2x_{3}  + x_{4}  + 3x_{5}  + 2x_{6}  + 3x_{7}  + x_{8}  + 5x_{9} + 3x_{10}  + 3x_{11}  + 3x_{12} ≡ 0 (mod 10)$. The function returns **true** or **false** based on the result. Use $047331021646$ , $547343002336$ and $519343222336$ to test your code ..............................................................................(5)"
   ]
  },
  {
   "cell_type": "code",
   "execution_count": 125,
   "id": "66988e3d",
   "metadata": {},
   "outputs": [],
   "source": [
    "import math\n",
    "\n",
    "def Is_Valid_UPC(digits_12, congruence_coefficients = [1,3,2,1,3,2,3,1,5,3,3,3]):\n",
    "    # the input digits_12 is a string containing digits\n",
    "\n",
    "    # if string is less than 12, then input not valid\n",
    "    if len(digits_12) != 12:\n",
    "        return False\n",
    "\n",
    "    digits_12 = int(digits_12)      # turn input string into integer\n",
    "    result = 0                      # variable to store sum of product of digits and coefficients\n",
    "\n",
    "\n",
    "    for i in range(0, len(congruence_coefficients)):                        # for each digit\n",
    "        result = result + (digits_12%10 * congruence_coefficients[len(congruence_coefficients)-1-i])       # add to result product of digit and corresponding coefficient\n",
    "        digits_12 = math.floor(digits_12 / 10)                              # divide input by 10 so previous digit accessible in next iteration\n",
    "    \n",
    "    # print(result)\n",
    "\n",
    "    return result%10 == 0           # check if UPC is valid => result congruent to 0 (mod 10)"
   ]
  },
  {
   "cell_type": "code",
   "execution_count": 126,
   "metadata": {},
   "outputs": [
    {
     "name": "stdout",
     "output_type": "stream",
     "text": [
      "False\n",
      "False\n",
      "False\n"
     ]
    }
   ],
   "source": [
    "print(Is_Valid_UPC('047331021646'))\n",
    "print(Is_Valid_UPC('547343002336'))\n",
    "print(Is_Valid_UPC('519343222336'))\n"
   ]
  },
  {
   "cell_type": "markdown",
   "id": "67820769",
   "metadata": {},
   "source": [
    "-----"
   ]
  },
  {
   "cell_type": "markdown",
   "id": "b3d5dc22",
   "metadata": {},
   "source": [
    "## Question 4 (20)[Chapter 4 slide #20-29]\n",
    "\n",
    "__Part 1, [show your steps] (10)__\n",
    "\n",
    "a. Convert the binary number $1011101101$ to its hexadecimal equivalent.\n",
    "\n",
    "    Group the binary into blocks of 4 (because 2^4=16).\n",
    "\n",
    "    It becomes 10 1110 1101. Then we turn the groupings into hexadecimal using: 0=0, 1=1, 2=2, 3=3, 4=4, 5=5, 6=6, 7=7, 8=8, 9=9, 10=A, 11=B, 12=C, 13=D, 14=E, 15=F.\n",
    "\n",
    "    10 = 2 => 2, 1110 = 8+4+2 = 14 => E, 1101 = 8 + 4 + 1 = 13 => D\n",
    "\n",
    "    1011101101 => 2ED.\n",
    "\n",
    "\n",
    "b. What is the decimal equivalent of the binary number $1110100101$?\n",
    "    1*(2^9) + 1*(2^8) + 1*(2^7) + 0*(2^6) + 1*(2^5) + 0*(2^4) + 0*(2^3) +  1*(2^2) + 0*(2^1) + 1*(2^0) = 512 + 256 + 128 + 0 + 32 + 0 + 0 + 4 + 0 + 1 = 933.\n",
    "\n",
    "    1110100101 => 933.\n",
    "\n",
    "\n",
    "c. Convert the hexadecimal number $2A$ to its binary equivalent.\n",
    "\n",
    "    2*(16^1) + 10*(16^0) = 32 + 10 = 42.\n",
    "\n",
    "    2A => 42\n",
    "\n",
    "d. What is the binary equivalent of the decimal number $63$?\n",
    "\n",
    "    2^5=32            63 - 32 = 31 => (100000)\n",
    "\n",
    "    2^4=16            31 - 16 = 15 => (110000)\n",
    "\n",
    "    2^3=8             15 - 8 = 7   => (111000)\n",
    "\n",
    "    2^2=4             7 - 4 = 3    => (111100)\n",
    "\n",
    "    2^1=2             3 - 2 = 1    => (111110)\n",
    "\n",
    "    2^0=1             1 - 1 = 0    => (111111)\n",
    "\n",
    "    36 => 111111\n",
    "\n",
    "\n",
    "\n",
    "e. Convert the octal number $72634$ to its hexadecimal equivalent.\n",
    "\n",
    "    7(8^4) + 2(8^3) + 6(8^2) + 3(8^1) + 4(8^0) = 30108\n",
    "\n",
    "    16^4=65536\n",
    "    16^3=4096       30108 = (4096*7) + 1436\n",
    "    16^2=256        1436 = (256*5)+ 156\n",
    "    16^1=16         16 = (16*9) + 12\n",
    "    16^0=1          12 = 12\n",
    "\n",
    "    72634 => 759C\n",
    "    \n",
    "\n",
    "\n",
    "__Part 2 (10)__\n",
    "\n",
    "a. Following pseudocode on slide #30, implement a function to perform binary addition. The function takes two integers as inputs, and returns the binary representation of the sum of the two numbers as a string. Note that the addition has to be performed using the binary representations of the two integers, meaning you can not do '5+8 = 13' then return the binary representation of 13. Use the following pairs to test your code: $(24,98), (2387482,1), (25,25)$\n",
    "\n",
    "-----"
   ]
  },
  {
   "cell_type": "code",
   "execution_count": 127,
   "id": "1f79553f",
   "metadata": {},
   "outputs": [],
   "source": [
    "def convertToBinary(x):\n",
    "    result = []\n",
    "\n",
    "    if x == 0:\n",
    "        result = [0]\n",
    "    \n",
    "    while x > 0:\n",
    "        result.insert(0, x%2)\n",
    "        x = int(x / 2)\n",
    "\n",
    "    return result\n",
    "\n",
    "\n",
    "\n",
    "def binary_addition(x,y):\n",
    "    x = convertToBinary(x)\n",
    "    y = convertToBinary(y)\n",
    "\n",
    "    if len(x) > len(y):\n",
    "        while len(x) > len(y):\n",
    "            y.insert(0, 0)\n",
    "    elif len(y) > len(x):\n",
    "        while len(y)> len(x):\n",
    "            x.insert(0, 0)\n",
    "\n",
    "    result = ''\n",
    "\n",
    "    carry = 0\n",
    "\n",
    "    for i in range(len(x)-1, -1, -1):\n",
    "        sum = x[i] + y[i] + carry\n",
    "\n",
    "        result = str(sum % 2) + result\n",
    "\n",
    "        carry = int(sum / 2)\n",
    "\n",
    "    if carry == 1:\n",
    "        result = '1' + result\n",
    "\n",
    "    return result\n",
    "\n"
   ]
  },
  {
   "cell_type": "code",
   "execution_count": 128,
   "metadata": {},
   "outputs": [
    {
     "name": "stdout",
     "output_type": "stream",
     "text": [
      "1111010\n",
      "1001000110111000011011\n",
      "110010\n"
     ]
    }
   ],
   "source": [
    "print(binary_addition(24,98))\n",
    "print(binary_addition(2387482,1))\n",
    "print(binary_addition(25,25))"
   ]
  },
  {
   "cell_type": "markdown",
   "metadata": {},
   "source": [
    "-----"
   ]
  },
  {
   "cell_type": "markdown",
   "id": "6d9d5dd4",
   "metadata": {},
   "source": [
    "## Question 5 [Chapter 4 slide #87,88] (20)\n",
    "\n",
    "Julius Caesar created secret messages by shifting each letter three letters forward in the alphabet (sending the last three letters to the first three letters.) For example, the letter B is replaced by E and the letter X is replaced by A. This process of making a message secret is an example of encryption.\n",
    "\n",
    "__Part 1 [show your steps] (15)__\n",
    "\n",
    "Encrypt the following messages using Caesar cipher\n",
    "\n",
    "__Step 1__: I assign each letter an integer: A=0, B=1, C=2, ..., X=23, Y=24, Z=25.\n",
    "\n",
    "__Step 2__: Then, shift the letters by three letters using the function $f(p)=(p+3)(mod 26)$, where p is the assigned integer for each letter. This results in the alphabet where X=0, Y=1, Z=2, A=3, B=4, C=5, ..., U=23, V=24, W=25.\n",
    "\n",
    "__Step 3__: Using the shifted alphabet, I take the new number integers (from the $f(p)$ function) and change it back to its corresponding letter.\n",
    "\n",
    "a. \"Meet you in the park\"\n",
    "    This sentence becomes: 12 4 4 19    24 14 20    8 13    19 7 4    15 0 17 10\n",
    "\n",
    "    (12+3)(mod 26)=15, (4+3)(mod 26)=7, (19+3)(mod 26)=22, (24+3)(mod 26)=1, (17+6)(mod 26)=23, (20+3)(mod 26)=23, (8+3)(mod 26)=11, (13+3)(mod 26)=16, (7+3)(mod 26)=10, (15+3)(mod 26)=18, (0+3)(mod 26)=3, (17+3)(mod 26)=20, (10+3)(mod 26)=13\n",
    "\n",
    "    Shift Letters: 15 7 7 22    1 17 1    11 16    22 10 7    18 3 20 13\n",
    "\n",
    "    Encrypted Message:    Phhw brx lq wkh sdun.\n",
    "    \n",
    "       \n",
    "b. \"I am reading a book on the history of glue. I just can not seem to put it down\"\n",
    "    This sentence becomes: 8    0 12    17 4 0 3 8 13 6   0    1 14 14 10    14 13    19 7 4    7 8 18 19 14 17 24    14 5    6 11 20 4.\n",
    "                           8    9 20 18 19    2 1 13    13 14 19    18 4 4 12    19 14    15 20 19    8 19    3 14 22 13.\n",
    "\n",
    "    Shift Letters: 11    3 15    20 7 3 6 11 16 9    3 4 17 17 13    17 16    22 10 7    10 11 21 22 17 20 1    17 8    9 14 23 7.\n",
    "                   11    12 23 21 22    5 4 16    16 17 22    21 7 7 15    22 17    18 23 22    11 22    6 17 25 16.\n",
    "\n",
    "    Encrpyted Message: L dp uhdglqj derrn rq wkh klvwrub ri joxh. L mxvw feq qrw vhhp wr sxw lw grzq.\n",
    "\n",
    "c. \"I like this class\"\n",
    "    This sentence becomes: 8    11 8 10 4   19 7 8 18    2 11 0 18 18\n",
    "\n",
    "    Shift Letters: 11    14 11 13 7    22 10 11 21    5 14 3 21 21.\n",
    "\n",
    "    Encrypted Message: L olnh wklv fodvv.\n",
    "\n",
    "__Part 2 [show your steps] (5)__\n",
    "\n",
    "__Step 1__: I assign each letter an integer: A=0, B=1, C=2, ..., X=23, Y=24, Z=25.\n",
    "\n",
    "__Step 2__: Then, shift the letters by three letters using the function $f(p)=(p+9)(mod 26)$, where p is the assigned integer for each letter. This results in the alphabet where R=0, S=1, T=2, U=3, V=4, W=5, X=6, Y=7, Z=8 ..., O=23, P=24, Q=25.\n",
    "\n",
    "__Step 3__: Using the shifted alphabet, I take the new number integers (from the $f(p)$ function) and change it back to its corresponding letter.\n",
    "\n",
    "a. Encrypt the message “Why do scientists not trust atoms? Because they make up everything.” using the __shift cipher__ with k = 9\n",
    "\n",
    "    This sentence becomes: 22 7 24    3 14    18 2 8 4 13 19 8 18 19 18    13 14 19    19 17 20 18 19     0 19 14 12 18?\n",
    "                           1 4 2 0 20 18 3    19 7 4 24    12 0 10 4    20 15    4 21 4 17 24 19 7 8 13 6.\n",
    "                \n",
    "    Shift Letters:         5 16 7    12 23    1 11 17 13 22 2 17 1 2 1    22 23 2    2 0 3 1 2    9 2 23 21 1?\n",
    "                           10 13 11 9 3 1 12    2 17 14 7    21 9 19 12    3 24    13 4 13 0 7 2 16 17 22 15 9.\n",
    "    \n",
    "    Encrpted Message: Fqh mx blrnwcrbcb wxc cadbc jcxvb? Knljdbm croh vjtm dy nenahcqrwp.\n",
    "\n",
    "    \n",
    "-----"
   ]
  }
 ],
 "metadata": {
  "kernelspec": {
   "display_name": "Python 3 (ipykernel)",
   "language": "python",
   "name": "python3"
  },
  "language_info": {
   "codemirror_mode": {
    "name": "ipython",
    "version": 3
   },
   "file_extension": ".py",
   "mimetype": "text/x-python",
   "name": "python",
   "nbconvert_exporter": "python",
   "pygments_lexer": "ipython3",
   "version": "3.11.0"
  },
  "vscode": {
   "interpreter": {
    "hash": "7ca6d61833d68ba87d904fbc4a4261fe90b3a7f0c150abd250a19ca497febe26"
   }
  }
 },
 "nbformat": 4,
 "nbformat_minor": 5
}
