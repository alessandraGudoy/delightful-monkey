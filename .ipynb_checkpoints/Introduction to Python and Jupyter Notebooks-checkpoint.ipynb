{
 "cells": [
  {
   "cell_type": "markdown",
   "id": "d33f3ade",
   "metadata": {},
   "source": [
    "# Introduction to Python Programming\n",
    "\n",
    "In this notebook, we'll cover the basics of Python programming. Before we start, make sure you have Anaconda and Visual Studio Code (VS Code) installed.\n",
    "\n",
    "## Installing Anaconda and VS Code\n",
    "\n",
    "1. **Anaconda**: Anaconda is a popular Python distribution that includes many useful packages and tools. You can download it from [Anaconda's website](https://www.anaconda.com/products/distribution) and follow the installation instructions for your operating system.\n",
    "\n",
    "2. **Visual Studio Code (VS Code)**: VS Code is a powerful code editor. Download and install it from [the VS Code website](https://code.visualstudio.com/).\n",
    "\n",
    "3. **Open jupyter notebook or jupyter lab from Anaconda or from within Vscode**\n",
    "\n",
    "## Basic Python Packages\n",
    "\n",
    "We'll use some basic Python packages for our examples. You can install them using the following commands:\n",
    "\n",
    "\n"
   ]
  },
  {
   "cell_type": "markdown",
   "id": "1bcd5410",
   "metadata": {},
   "source": [
    "### Install packages using conda (Anaconda's package manager)\n"
   ]
  },
  {
   "cell_type": "code",
   "execution_count": 3,
   "id": "604d0204",
   "metadata": {},
   "outputs": [
    {
     "name": "stdout",
     "output_type": "stream",
     "text": [
      "Collecting package metadata (current_repodata.json): - DEBUG:urllib3.connectionpool:Starting new HTTPS connection (1): repo.anaconda.com:443\n",
      "DEBUG:urllib3.connectionpool:Starting new HTTPS connection (1): repo.anaconda.com:443\n",
      "DEBUG:urllib3.connectionpool:Starting new HTTPS connection (1): repo.anaconda.com:443\n",
      "DEBUG:urllib3.connectionpool:Starting new HTTPS connection (1): repo.anaconda.com:443\n",
      "DEBUG:urllib3.connectionpool:https://repo.anaconda.com:443 \"GET /pkgs/r/noarch/current_repodata.json HTTP/1.1\" 304 0\n",
      "DEBUG:urllib3.connectionpool:https://repo.anaconda.com:443 \"GET /pkgs/main/noarch/current_repodata.json HTTP/1.1\" 304 0\n",
      "DEBUG:urllib3.connectionpool:https://repo.anaconda.com:443 \"GET /pkgs/main/osx-64/current_repodata.json HTTP/1.1\" 304 0\n",
      "\\ DEBUG:urllib3.connectionpool:https://repo.anaconda.com:443 \"GET /pkgs/r/osx-64/current_repodata.json HTTP/1.1\" 304 0\n",
      "done\n",
      "Solving environment: done\n",
      "\n",
      "# All requested packages already installed.\n",
      "\n"
     ]
    }
   ],
   "source": [
    "!conda install numpy matplotlib"
   ]
  },
  {
   "cell_type": "markdown",
   "id": "5690399a",
   "metadata": {},
   "source": [
    "### or using pip (Python's package manager)"
   ]
  },
  {
   "cell_type": "code",
   "execution_count": 10,
   "id": "7c764f87",
   "metadata": {},
   "outputs": [
    {
     "name": "stdout",
     "output_type": "stream",
     "text": [
      "Requirement already satisfied: numpy in /Users/marifemamuad/anaconda3/lib/python3.11/site-packages (1.24.3)\n",
      "Requirement already satisfied: matplotlib in /Users/marifemamuad/anaconda3/lib/python3.11/site-packages (3.7.1)\n",
      "Requirement already satisfied: contourpy>=1.0.1 in /Users/marifemamuad/anaconda3/lib/python3.11/site-packages (from matplotlib) (1.0.5)\n",
      "Requirement already satisfied: cycler>=0.10 in /Users/marifemamuad/anaconda3/lib/python3.11/site-packages (from matplotlib) (0.11.0)\n",
      "Requirement already satisfied: fonttools>=4.22.0 in /Users/marifemamuad/anaconda3/lib/python3.11/site-packages (from matplotlib) (4.25.0)\n",
      "Requirement already satisfied: kiwisolver>=1.0.1 in /Users/marifemamuad/anaconda3/lib/python3.11/site-packages (from matplotlib) (1.4.4)\n",
      "Requirement already satisfied: packaging>=20.0 in /Users/marifemamuad/anaconda3/lib/python3.11/site-packages (from matplotlib) (23.0)\n",
      "Requirement already satisfied: pillow>=6.2.0 in /Users/marifemamuad/anaconda3/lib/python3.11/site-packages (from matplotlib) (9.4.0)\n",
      "Requirement already satisfied: pyparsing>=2.3.1 in /Users/marifemamuad/anaconda3/lib/python3.11/site-packages (from matplotlib) (3.0.9)\n",
      "Requirement already satisfied: python-dateutil>=2.7 in /Users/marifemamuad/anaconda3/lib/python3.11/site-packages (from matplotlib) (2.8.2)\n",
      "Requirement already satisfied: six>=1.5 in /Users/marifemamuad/anaconda3/lib/python3.11/site-packages (from python-dateutil>=2.7->matplotlib) (1.16.0)\n"
     ]
    }
   ],
   "source": [
    "!pip install numpy matplotlib"
   ]
  },
  {
   "cell_type": "markdown",
   "id": "c6a392b0",
   "metadata": {},
   "source": [
    "## Printing text"
   ]
  },
  {
   "cell_type": "code",
   "execution_count": 2,
   "id": "a0c0b21a",
   "metadata": {},
   "outputs": [
    {
     "name": "stdout",
     "output_type": "stream",
     "text": [
      "qwertyuiop\n"
     ]
    }
   ],
   "source": [
    "print(\"qwertyuiop\")"
   ]
  },
  {
   "cell_type": "markdown",
   "id": "e8bdafc8",
   "metadata": {},
   "source": [
    "## Printing variables"
   ]
  },
  {
   "cell_type": "code",
   "execution_count": 4,
   "id": "32d9d970",
   "metadata": {},
   "outputs": [
    {
     "name": "stdout",
     "output_type": "stream",
     "text": [
      "The value of x is: 5\n"
     ]
    }
   ],
   "source": [
    "x = 5\n",
    "print(\"The value of x is:\", x)"
   ]
  },
  {
   "cell_type": "markdown",
   "id": "c6e5e35c",
   "metadata": {},
   "source": [
    "## Multiplication\n",
    "\n",
    "Python can perform basic arithmetic operations like multiplication"
   ]
  },
  {
   "cell_type": "code",
   "execution_count": null,
   "id": "67912e1f",
   "metadata": {},
   "outputs": [],
   "source": [
    "a = 3\n",
    "b = 4\n",
    "result = a * b\n",
    "print(\"The result of multiplication is:\", result)"
   ]
  },
  {
   "cell_type": "markdown",
   "id": "4a09f757",
   "metadata": {},
   "source": [
    "## Graphing Examples\n",
    "\n",
    "We can create simple graphs using the matplotlib library."
   ]
  },
  {
   "cell_type": "code",
   "execution_count": 1,
   "id": "c85b7b70",
   "metadata": {},
   "outputs": [
    {
     "data": {
      "image/png": "[encoded data removed]",
      "text/plain": [
       "<Figure size 640x480 with 1 Axes>"
      ]
     },
     "metadata": {},
     "output_type": "display_data"
    }
   ],
   "source": [
    "import matplotlib.pyplot as plt\n",
    "\n",
    "%matplotlib inline\n",
    "# Create data\n",
    "x = [1, 2, 3, 4, 5]\n",
    "y = [2, 4, 6, 8, 10]\n",
    "\n",
    "# Plot a basic line graph\n",
    "plt.plot(x, y)\n",
    "plt.xlabel('X-axis')\n",
    "plt.ylabel('Y-axis')\n",
    "plt.title('Simple Line Graph')\n",
    "plt.show()\n"
   ]
  },
  {
   "cell_type": "markdown",
   "id": "0cc3b007",
   "metadata": {},
   "source": [
    "## A More Advanced Graph"
   ]
  },
  {
   "cell_type": "code",
   "execution_count": 5,
   "id": "3f499f31",
   "metadata": {},
   "outputs": [
    {
     "data": {
      "image/png": "[encoded data removed]",
      "text/plain": [
       "<Figure size 800x600 with 1 Axes>"
      ]
     },
     "metadata": {},
     "output_type": "display_data"
    }
   ],
   "source": [
    "import matplotlib.pyplot as plt\n",
    "import numpy as np\n",
    "\n",
    "# Generate some data\n",
    "x = np.linspace(0, 10, 100)\n",
    "y1 = np.sin(x)\n",
    "y2 = np.cos(x)\n",
    "\n",
    "# Create a figure and axis\n",
    "plt.figure(figsize=(8, 6))\n",
    "plt.title('Sine and Cosine Functions')\n",
    "plt.xlabel('x')\n",
    "plt.ylabel('y')\n",
    "\n",
    "# Plot the sine and cosine functions\n",
    "plt.plot(x, y1, label='sin(x)', color='blue')\n",
    "plt.plot(x, y2, label='cos(x)', color='red')\n",
    "\n",
    "# Add a legend\n",
    "plt.legend()\n",
    "\n",
    "# Display the plot\n",
    "plt.grid(True)\n",
    "plt.show()\n"
   ]
  },
  {
   "cell_type": "markdown",
   "id": "5afdc403",
   "metadata": {},
   "source": [
    "## If Statements\n",
    "\n",
    "Conditional statements allow us to make decisions in our code."
   ]
  },
  {
   "cell_type": "code",
   "execution_count": 7,
   "id": "efe2c89e",
   "metadata": {},
   "outputs": [
    {
     "name": "stdout",
     "output_type": "stream",
     "text": [
      "Enter your age: 4\n",
      "You are not eligible to vote.\n"
     ]
    }
   ],
   "source": [
    "# If statement\n",
    "age = int(input(\"Enter your age: \"))\n",
    "if age < 18:\n",
    "    print(\"You are not eligible to vote.\")\n",
    "elif age<=85:\n",
    "    print(\"you are eligible to vote, go vote!\")\n",
    "else:\n",
    "    print(\"Rest, you need to rest!\")\n"
   ]
  },
  {
   "cell_type": "markdown",
   "id": "e509742c",
   "metadata": {},
   "source": [
    "## For Loops\n",
    "Loops are used to iterate over sequences (lists, strings, etc.) or execute a block of code multiple times"
   ]
  },
  {
   "cell_type": "code",
   "execution_count": 8,
   "id": "738d05ff",
   "metadata": {},
   "outputs": [
    {
     "name": "stdout",
     "output_type": "stream",
     "text": [
      "apple\n",
      "banana\n",
      "cherry\n"
     ]
    }
   ],
   "source": [
    "# For loop\n",
    "fruits = [\"apple\", \"banana\", \"cherry\"]\n",
    "for fruit in fruits:\n",
    "    print(fruit)\n"
   ]
  },
  {
   "cell_type": "markdown",
   "id": "6714e2a4",
   "metadata": {},
   "source": [
    "### Double For Loops\n",
    "we can nest for loops to do something iterative for each step in an iteration"
   ]
  },
  {
   "cell_type": "code",
   "execution_count": 9,
   "id": "97cb68a0",
   "metadata": {},
   "outputs": [
    {
     "name": "stdout",
     "output_type": "stream",
     "text": [
      "0 0 0 0 0 0 0 0 0 0 0 \n",
      "1 0 1 2 3 4 5 6 7 8 9 \n",
      "2 0 2 4 6 8 10 12 14 16 18 \n",
      "3 0 3 6 9 12 15 18 21 24 27 \n",
      "4 0 4 8 12 16 20 24 28 32 36 \n",
      "5 0 5 10 15 20 25 30 35 40 45 \n",
      "6 0 6 12 18 24 30 36 42 48 54 \n",
      "7 0 7 14 21 28 35 42 49 56 63 \n",
      "8 0 8 16 24 32 40 48 56 64 72 \n",
      "9 0 9 18 27 36 45 54 63 72 81 \n"
     ]
    }
   ],
   "source": [
    "for i in range(10):\n",
    "    print(i, end=\" \")\n",
    "    for k in range(10):\n",
    "        print(i*k, end= \" \")\n",
    "    print(\"\")"
   ]
  },
  {
   "cell_type": "markdown",
   "id": "7510ed62",
   "metadata": {},
   "source": [
    "## Functions\n",
    "Functions allow us to encapsulate and reuse code."
   ]
  },
  {
   "cell_type": "code",
   "execution_count": 10,
   "id": "c07ce258",
   "metadata": {},
   "outputs": [],
   "source": [
    "# Function definition\n",
    "def greet(name):\n",
    "    return \"Hello, \" + name + \"!\""
   ]
  },
  {
   "cell_type": "code",
   "execution_count": 12,
   "id": "012f7b5c",
   "metadata": {},
   "outputs": [
    {
     "name": "stdout",
     "output_type": "stream",
     "text": [
      "Hello, Alice!\n",
      "Enter your name: Alice\n",
      "Alice\n"
     ]
    }
   ],
   "source": [
    "# Function call\n",
    "message = greet(\"Alice\")\n",
    "print(message)\n",
    "\n",
    "input_name = input(\"Enter your name: \")\n",
    "print(input_name)"
   ]
  },
  {
   "cell_type": "markdown",
   "id": "0fe0357e",
   "metadata": {},
   "source": [
    "## Putting It All Together\n",
    "\n",
    "Write a function that takes a user's input as an integer from 1 to infinity and tells them if the number is prime or not.\n",
    "\n",
    "_function to test primality: primes have only 2 positive divisors that are not the same number, so simple approach is to start at the number  𝑛−1\n",
    "and stop at 2 and see if anything below it devides it, if anything does we stop, it is not prime_"
   ]
  },
  {
   "cell_type": "code",
   "execution_count": 29,
   "id": "c1413928",
   "metadata": {},
   "outputs": [],
   "source": [
    "#function to test primality:\n",
    "def is_prime(n):\n",
    "    #reject negatives\n",
    "    if n<=0:\n",
    "        return \"not positive\"\n",
    "    #reject decimals\n",
    "    elif round(n)!=n:\n",
    "        return \"not an integer\"\n",
    "    #handle base cases\n",
    "    elif n==1:\n",
    "        return \"not prime\"\n",
    "    elif n==2:\n",
    "        return \"prime\"\n",
    "    else:\n",
    "        for i in range(2,int(n)-1):\n",
    "            if n%i==0:\n",
    "                return \"not prime\"\n",
    "    return \"prime\"\n"
   ]
  },
  {
   "cell_type": "code",
   "execution_count": 30,
   "id": "4fcfb4fc",
   "metadata": {},
   "outputs": [
    {
     "name": "stdout",
     "output_type": "stream",
     "text": [
      "enter a positive integer; 1\n",
      "The number: 1.0 is  not prime\n"
     ]
    }
   ],
   "source": [
    "## now take use input and call the function on it\n",
    "number = float(input(\"enter a positive integer; \"))\n",
    "print(\"The number: %s is \"%number,is_prime(number))"
   ]
  },
  {
   "cell_type": "markdown",
   "id": "fb0160ea",
   "metadata": {},
   "source": [
    "## Exercises\n",
    "\n",
    "1. understanding integers, you should be aware no number above $50$ and below $99$ divides $100$, no number above $700$ and below $1399$ divides $1400$. meaning our loop does not have to search all numbers between $2$ and $n-1$. We can search just between $2$ and $\\frac{n}{2}$\n",
    "\n",
    "__using the code above, write your own function that searches only from $\\frac{n}{2}$ and test to see that it works__\n",
    "\n",
    "2. Write a function that prints all the positive even numbers below a given input integer $n$ . \n",
    "_so if $n=10$, your function returns $2,4,6,8$_"
   ]
  },
  {
   "cell_type": "code",
   "execution_count": 34,
   "id": "a111fa72",
   "metadata": {},
   "outputs": [],
   "source": [
    "#function def for question 1\n",
    "def is_prime_up_to_half(n):\n",
    "    #reject negatives\n",
    "    if n<=0:\n",
    "        return \"not positive\"\n",
    "    #reject decimals\n",
    "    elif round(n)!=n:\n",
    "        return \"not an integer\"\n",
    "    #handle base cases\n",
    "    elif n==1:\n",
    "        return \"not prime\"\n",
    "    elif n==2:\n",
    "        return \"prime\"\n",
    "    else:\n",
    "        for i in range(2,int(n/2)):\n",
    "            if n%i==0:\n",
    "                return \"not prime\"\n",
    "    return \"prime\""
   ]
  },
  {
   "cell_type": "code",
   "execution_count": 36,
   "id": "3272f2b5",
   "metadata": {},
   "outputs": [
    {
     "name": "stdout",
     "output_type": "stream",
     "text": [
      "not prime\n"
     ]
    }
   ],
   "source": [
    "print(is_prime_up_to_half(75))"
   ]
  },
  {
   "cell_type": "code",
   "execution_count": 5,
   "id": "fa8de98c",
   "metadata": {},
   "outputs": [
    {
     "ename": "SyntaxError",
     "evalue": "incomplete input (1101413144.py, line 2)",
     "output_type": "error",
     "traceback": [
      "\u001b[0;36m  Cell \u001b[0;32mIn[5], line 2\u001b[0;36m\u001b[0m\n\u001b[0;31m    def all_evens_below(n):\u001b[0m\n\u001b[0m                           ^\u001b[0m\n\u001b[0;31mSyntaxError\u001b[0m\u001b[0;31m:\u001b[0m incomplete input\n"
     ]
    }
   ],
   "source": [
    "#function def for question 2\n",
    "def all_evens_below(n):\n",
    "    "
   ]
  },
  {
   "cell_type": "markdown",
   "id": "e678fbad",
   "metadata": {},
   "source": [
    "-----"
   ]
  },
  {
   "cell_type": "markdown",
   "id": "06058817",
   "metadata": {},
   "source": [
    "# Last and Most Important: The Zen of Python\n",
    "\n",
    "- Beautiful is better than ugly.\n",
    "- Explicit is better than implicit.\n",
    "- Simple is better than complex.\n",
    "- Complex is better than complicated.\n",
    "- Flat is better than nested.\n",
    "- Sparse is better than dense.\n",
    "- Readability counts.\n",
    "- Special cases aren't special enough to break the rules.\n",
    "- Although practicality beats purity.\n",
    "- Errors should never pass silently.\n",
    "- Unless explicitly silenced.\n",
    "- In the face of ambiguity, refuse the temptation to guess.\n",
    "- There should be one—and preferably only one—obvious way to do it.\n",
    "- Although that way may not be obvious at first unless you're Dutch.\n",
    "- Now is better than never.\n",
    "- Although never is often better than *right* now.\n",
    "- If the implementation is hard to explain, it's a bad idea.\n",
    "- If the implementation is easy to explain, it may be a good idea.\n",
    "- Namespaces are one honking great idea—let's do more of those!\n",
    "\n",
    "-----\n"
   ]
  }
 ],
 "metadata": {
  "kernelspec": {
   "display_name": "Python 3 (ipykernel)",
   "language": "python",
   "name": "python3"
  },
  "language_info": {
   "codemirror_mode": {
    "name": "ipython",
    "version": 3
   },
   "file_extension": ".py",
   "mimetype": "text/x-python",
   "name": "python",
   "nbconvert_exporter": "python",
   "pygments_lexer": "ipython3",
   "version": "3.11.4"
  },
  "vscode": {
   "interpreter": {
    "hash": "aee8b7b246df8f9039afb4144a1f6fd8d2ca17a180786b69acc140d282b71a49"
   }
  }
 },
 "nbformat": 4,
 "nbformat_minor": 5
}
