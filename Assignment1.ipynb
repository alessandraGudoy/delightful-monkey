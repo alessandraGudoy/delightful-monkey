{
 "cells": [
  {
   "cell_type": "markdown",
   "metadata": {},
   "source": [
    "-----\n",
    "# <span style = \"color:white\"> ICS 141: Fall 2023</span>\n",
    "##### Your name here: <span style = \"color:grey\">Alessandra Gudoy</span>\n",
    "-----"
   ]
  },
  {
   "cell_type": "markdown",
   "metadata": {},
   "source": [
    "## __Assignment 1__\n",
    "\n",
    "##### <span style = \"color:blue\">In this assignment you will work on theory questions based on worksheets 1,2,3,4 and a bit of 5. You will also implement python code in this same workbook for the rest of the assignment. You will learn how to use markdown by seeing how I used it in this assignment notebook. Initially, you might find the whole assignment a bit tricky, but once you sit down and tackle it with focus, you'll see that it's actually challenging, but well within your abilities. You will then bask in the glow of your accomplishment and wear your pride as a badge of honor once done. _Like Thanos resting in a peacefull universe at the end of infinity war!_</span>\n",
    "\n",
    "![Thanos Resting](https://i.pinimg.com/originals/13/71/eb/1371eba0eab3bc7978e5a337055bd4b2.jpg)\n"
   ]
  },
  {
   "cell_type": "markdown",
   "metadata": {},
   "source": [
    "#### <span style='color:grey'>Grading breakbown:</span>\n",
    "\n",
    "<span style='color:grey'>1. Theory - 60</span>\n",
    "\n",
    "<span style='color:grey'>2. Code - 40</span>\n",
    "\n",
    "<span style='color:grey'>3. Bonus (Code) - 20</span>\n",
    "\n",
    "-----"
   ]
  },
  {
   "cell_type": "markdown",
   "metadata": {},
   "source": [
    "### <span style = \"color:red\">1. Theory Questions (60) </span>\n",
    "\n",
    "#### a) __Sets (15, 3 each):__ \n",
    "##### Let $A =\\{1,4,9,16,25,...\\}, B = \\{1,1,2,6,24,25,120,720,5040,40320\\}, C = \\{0,1,1,2,3,5,8,13,...,55\\}, D =\\{1,63,7\\}, E=\\{995,1,4300,\\{4330\\},\\{\\}\\}$\n",
    " i. Show the following sets:\n",
    "    $A \\bigcap B$\n",
    "   \n",
    " ##### <span style=\"color:blue\">A  B = {1, 25}</span>\n",
    "   \n",
    "   \n",
    " ii. Show the following sets:\n",
    "    $B \\bigcap C \\bigcup D$,\n",
    "   ##### <span style=\"color:blue\">Answer</span>\n",
    "\n",
    "\n",
    " iii. Show the following: \n",
    "   $D \\times E$\n",
    "\n",
    "  ##### <span style=\"color:blue\">Answer</span>\n",
    "\n",
    " iv. Find $P(E)$: \n",
    "\n",
    "  ##### <span style=\"color:blue\">Answer</span>\n",
    " v. Describe the set C in words so the pattern is obvious: \n",
    "\n",
    "  ##### <span style=\"color:blue\">Answer</span>\n",
    "\n",
    "\n",
    "-----\n"
   ]
  },
  {
   "cell_type": "markdown",
   "metadata": {},
   "source": [
    "#### <span style = \"color:red\"> b) Functions (15, 3 point each) </span>\n",
    "\n",
    "##### let $f(x) = x^{5}-3x^{2} +9$,\n",
    "##### let $g(y) = sin(y^{4})$,\n",
    "##### let $h(z) = 2z+z!$, _where $z$ is an integer_\n",
    "\n",
    "##### 1. If possible, find: $f(g(0.43))$\n",
    "\n",
    "##### <span style=\"color:blue\">Answer</span>\n",
    "\n",
    "\n",
    "##### 2. If possible, find: $h(g(3))$\n",
    "\n",
    "##### <span style=\"color:blue\">Answer</span>\n",
    "\n",
    "\n",
    "##### 3.  If possible, find: $g(f(h(1.7)))$\n",
    "\n",
    "##### <span style=\"color:blue\">Answer</span>\n",
    "\n",
    "\n",
    "##### 4.  In python, using matplotlib, graph the functions:\n",
    "\n",
    "- $f(x) = log(x)$\n",
    "- $f(x)= x^{2}$\n",
    "- $f(x)=xlog(x)$  \n",
    "##### Adjust the graph so that it is obvious which function grows faster than the other, so focus on the first quadrant.\n",
    "\n",
    "##### 5.  On the same plot add a legend, title to the graph, and axis labels. Now add the foollowing functions to the graph:\n",
    "\n",
    "- $f(x)=e^x$\n",
    "- $f(x)=log(x)^{7}$ "
   ]
  },
  {
   "cell_type": "code",
   "execution_count": null,
   "metadata": {},
   "outputs": [],
   "source": [
    "# Write your code for questions 4 and 5 here\n",
    "import numpy as np\n",
    "import matplotlib.pyplot as plt\n",
    "\n",
    "# Question 4 and 5"
   ]
  },
  {
   "cell_type": "markdown",
   "metadata": {},
   "source": [
    "-----\n",
    "\n",
    "#### <span style = \"color:red\"> C) Algorithms (30, 10 each) </span>\n",
    "\n",
    "1. Find the big $O$ of $f(x) = 3x^2 + log(x)^7$ \n",
    "\n",
    "##### <span style=\"color:blue\">Answer</span>\n",
    "\n",
    "2. Find the big $O$ of $f(x) = x * log(x) + x^2$\n",
    "\n",
    "##### <span style=\"color:blue\">Answer</span>\n",
    "\n",
    "3. Find the big $O$ of $f(x) = 10x ^{x}+2^{x}+99x!$\n",
    "\n",
    "##### <span style=\"color:blue\">Answer</span>\n",
    "\n",
    "-----"
   ]
  },
  {
   "cell_type": "markdown",
   "metadata": {},
   "source": [
    "## <span style = \"color:red\"> Question 2 (20, 10 each): </span>\n",
    "\n",
    "a)  Implement the __intersection__ and __union__ functions of $2$ sets. Do not use a function such as union from any package. Also you can not use the logical operators \"and\" and \"or\" so that you just did $a V b$ for the union. Do this using a loop.:\n",
    "\n",
    "```python\n",
    "    def intersect(a, b):\n",
    "        return result\n",
    "```\n",
    "\n",
    "```python\n",
    "    def union(a, b):\n",
    "        return result\n",
    "```\n",
    "\n",
    "use the folowing sets to test your implementation: $A = \\{3,6,7,54,99,45\\}, B = \\{5,7,3,56,45,98,42,3\\}$, and show results"
   ]
  },
  {
   "cell_type": "markdown",
   "metadata": {},
   "source": [
    "##### <span style=\"color:blue\">Answer</span>"
   ]
  },
  {
   "cell_type": "code",
   "execution_count": null,
   "metadata": {},
   "outputs": [],
   "source": [
    "def intersect(a, b):\n",
    "    \"\"\" return the intersection of two lists \"\"\"\n",
    "    return result\n",
    "\n",
    "#test it\n",
    "intersect({3,6,7,54,99,45},{5,7,3,56,45,98,42,3})"
   ]
  },
  {
   "cell_type": "code",
   "execution_count": null,
   "metadata": {},
   "outputs": [],
   "source": [
    "def union(a, b):\n",
    "    \"\"\" return the union of two lists \"\"\"\n",
    "    return result\n",
    "\n",
    "union({3,6,7,54,99,45},{5,7,3,56,45,98,42,3})"
   ]
  },
  {
   "cell_type": "markdown",
   "metadata": {},
   "source": [
    "\n",
    "\n",
    "\n",
    "b)  Implement the __Bubble sort Algorithm__, and at the end of every iteration, print your name plus a random number as a string.\n",
    "\n",
    "```python\n",
    "def bubble_sort(name, list_to_sort):\n",
    "    return sorted_list\n",
    "\n",
    "```\n",
    "\n",
    "Use the following lists to test your code: $[4,2,6,27,55,8,76,21,89], [11,1,1,1,2,1,19,89,3]$, and the result\n",
    "\n",
    "-----"
   ]
  },
  {
   "cell_type": "markdown",
   "metadata": {},
   "source": [
    "##### <span style=\"color:blue\">Answer</span>"
   ]
  },
  {
   "cell_type": "code",
   "execution_count": null,
   "metadata": {},
   "outputs": [],
   "source": [
    "\n",
    "import random\n",
    "\n",
    "def bubble_sort(name,arr):\n",
    "    \"\"\" return the sorted list using bubble sort \"\"\"\n",
    "    return result\n"
   ]
  },
  {
   "cell_type": "code",
   "execution_count": null,
   "metadata": {},
   "outputs": [],
   "source": [
    "#test it\n",
    "print(bubble_sort(\"Moseli\",[4,2,6,27,55,8,76,21,89]))"
   ]
  },
  {
   "cell_type": "markdown",
   "metadata": {},
   "source": [
    "----\n",
    "\n",
    "### <span style = \"color:red\"> 3. Python for Algorithms (40) </span>\n",
    "\n",
    "#### <span style = \"color:red\"> a) Question 1 (20): </span>\n",
    "Implement code to calcutale k factorial using python loops and if statements. Make it so that for each factorial answer, you return the answer __minus 47__ if $k!$ is even and you return the answer __plus 56__ if $k!$ is odd\n",
    "\n",
    "Use $k=0,1,6,8,9,39,102$ to test your code"
   ]
  },
  {
   "cell_type": "code",
   "execution_count": 16,
   "metadata": {},
   "outputs": [],
   "source": [
    "def factorial(k):\n",
    "\n",
    "    result = 1\n",
    "\n",
    "    if k <= 1:\n",
    "        result = 1\n",
    "    else:\n",
    "        for i in range(1, k):\n",
    "            result = result * i\n",
    "    \n",
    "    print(str(k) + \"! = \" + str(result))\n",
    "    \n",
    "    if result % 2 == 0:\n",
    "        print(str(result) + \" is even, subtracting 47\")\n",
    "        result = result - 47\n",
    "        \n",
    "    elif result % 2 == 1:\n",
    "        print(str(result) + \" is odd, adding 56\")\n",
    "        result = result + 56\n",
    "    \n",
    "    print(\"Final result: \" + str(result))\n",
    "    print()\n",
    "    \"\"\" return k!-47 if k! is even and k!+56 if k! is odd \"\"\"\n",
    "    return result"
   ]
  },
  {
   "cell_type": "code",
   "execution_count": 17,
   "metadata": {},
   "outputs": [
    {
     "name": "stdout",
     "output_type": "stream",
     "text": [
      "0! = 1\n",
      "1 is odd, adding 56\n",
      "Final result: 57\n",
      "\n",
      "57\n",
      "1! = 1\n",
      "1 is odd, adding 56\n",
      "Final result: 57\n",
      "\n",
      "57\n",
      "6! = 120\n",
      "120 is even, subtracting 47\n",
      "Final result: 73\n",
      "\n",
      "73\n",
      "8! = 5040\n",
      "5040 is even, subtracting 47\n",
      "Final result: 4993\n",
      "\n",
      "4993\n",
      "9! = 40320\n",
      "40320 is even, subtracting 47\n",
      "Final result: 40273\n",
      "\n",
      "40273\n",
      "39! = 523022617466601111760007224100074291200000000\n",
      "523022617466601111760007224100074291200000000 is even, subtracting 47\n",
      "Final result: 523022617466601111760007224100074291199999953\n",
      "\n",
      "523022617466601111760007224100074291199999953\n",
      "102! = 9425947759838359420851623124482936749562312794702543768327889353416977599316221476503087861591808346911623490003549599583369706302603264000000000000000000000000\n",
      "9425947759838359420851623124482936749562312794702543768327889353416977599316221476503087861591808346911623490003549599583369706302603264000000000000000000000000 is even, subtracting 47\n",
      "Final result: 9425947759838359420851623124482936749562312794702543768327889353416977599316221476503087861591808346911623490003549599583369706302603263999999999999999999999953\n",
      "\n",
      "9425947759838359420851623124482936749562312794702543768327889353416977599316221476503087861591808346911623490003549599583369706302603263999999999999999999999953\n"
     ]
    }
   ],
   "source": [
    "#test it\n",
    "for k in [0,1,6,8,9,39,102]:\n",
    "    print(str(factorial(k)))"
   ]
  },
  {
   "cell_type": "markdown",
   "metadata": {},
   "source": [
    "----\n",
    "\n",
    "#### <span style=\"color: red; font-size: 1.2em;\">b) Bonus Question (20):</span>\n",
    "\n",
    "An algorithm to test for primes more efficiently than the standard algorithm. If it does not exist, why?\n",
    "Show the standard algorithm and $2$ improved algorithms, and the time complexity for all $3$.\n",
    "\n",
    "given a number $k$, your program should return prime or not prime for any input in the range $[0,\\inf)$\n",
    "\n",
    "```python\n",
    "def prime_test(k):\n",
    "    return result\n",
    "```\n",
    "\n",
    "_A prime is a number with exactly $2$ distinct divisors_\n"
   ]
  },
  {
   "cell_type": "code",
   "execution_count": null,
   "metadata": {},
   "outputs": [],
   "source": [
    "## Write your code here\n",
    "import time\n",
    "import timeit\n",
    "\n",
    "####testing all numbers below the input###\n",
    "def prime_test1(n):\n",
    "    \"\"\"test prime or not in a simple way\"\"\"\n",
    "    return result\n",
    "\n",
    "#####testing all numbers below half the input#####\n",
    "def prime_test2(n):\n",
    "    \"\"\"test prime or not based on half the number\"\"\"\n",
    "    return result\n",
    "\n",
    "######testing all numbers below the square root of the input#####\n",
    "def prime_test3(n):\n",
    "    \"\"\"test prime or not based on the square root of the number\"\"\"\n",
    "    return result\n"
   ]
  },
  {
   "cell_type": "markdown",
   "metadata": {},
   "source": [
    "### Use the following code to test your functions and their execution time"
   ]
  },
  {
   "cell_type": "code",
   "execution_count": null,
   "metadata": {},
   "outputs": [],
   "source": [
    "%timeit -r 10 -n 1000 prime_test1(82940829403)"
   ]
  },
  {
   "cell_type": "code",
   "execution_count": null,
   "metadata": {},
   "outputs": [],
   "source": [
    "%timeit -r 10 -n 1000 prime_test2(82940829403)"
   ]
  },
  {
   "cell_type": "code",
   "execution_count": null,
   "metadata": {},
   "outputs": [],
   "source": [
    "%timeit -r 10 -n 1000 prime_test3(82940829403)"
   ]
  },
  {
   "cell_type": "markdown",
   "metadata": {},
   "source": [
    "#### Comment on the execution times of the 3 functions. what do you thing of the overhead incured in calculating the square root? What is it's complexity?"
   ]
  },
  {
   "cell_type": "markdown",
   "metadata": {},
   "source": [
    "##### <span style=\"color:blue\">Answer</span>\n",
    "\n",
    "----"
   ]
  },
  {
   "cell_type": "markdown",
   "metadata": {},
   "source": [
    "## <span style = \"color:red\"> Done!! </span>"
   ]
  }
 ],
 "metadata": {
  "kernelspec": {
   "display_name": "Python 3 (ipykernel)",
   "language": "python",
   "name": "python3"
  },
  "language_info": {
   "codemirror_mode": {
    "name": "ipython",
    "version": 3
   },
   "file_extension": ".py",
   "mimetype": "text/x-python",
   "name": "python",
   "nbconvert_exporter": "python",
   "pygments_lexer": "ipython3",
   "version": "3.11.4"
  },
  "vscode": {
   "interpreter": {
    "hash": "7ca6d61833d68ba87d904fbc4a4261fe90b3a7f0c150abd250a19ca497febe26"
   }
  }
 },
 "nbformat": 4,
 "nbformat_minor": 4
}
