{
 "cells": [
  {
   "cell_type": "markdown",
   "id": "d33f3ade",
   "metadata": {},
   "source": [
    "# Introduction to Python Programming\n",
    "\n",
    "In this notebook, we'll cover the basics of Python programming. Before we start, make sure you have Anaconda and Visual Studio Code (VS Code) installed.\n",
    "\n",
    "## Installing Anaconda and VS Code\n",
    "\n",
    "1. **Anaconda**: Anaconda is a popular Python distribution that includes many useful packages and tools. You can download it from [Anaconda's website](https://www.anaconda.com/products/distribution) and follow the installation instructions for your operating system.\n",
    "\n",
    "2. **Visual Studio Code (VS Code)**: VS Code is a powerful code editor. Download and install it from [the VS Code website](https://code.visualstudio.com/).\n",
    "\n",
    "3. **Open jupyter notebook or jupyter lab from Anaconda or from within Vscode**\n",
    "\n",
    "## Basic Python Packages\n",
    "\n",
    "We'll use some basic Python packages for our examples. You can install them using the following commands:\n",
    "\n",
    "\n"
   ]
  },
  {
   "cell_type": "markdown",
   "id": "1bcd5410",
   "metadata": {},
   "source": [
    "### Install packages using conda (Anaconda's package manager)\n"
   ]
  },
  {
   "cell_type": "code",
   "execution_count": 31,
   "id": "604d0204",
   "metadata": {},
   "outputs": [
    {
     "ename": "ValueError",
     "evalue": "The python kernel does not appear to be a conda environment.  Please use ``%pip install`` instead.",
     "output_type": "error",
     "traceback": [
      "\u001b[0;31m---------------------------------------------------------------------------\u001b[0m",
      "\u001b[0;31mValueError\u001b[0m                                Traceback (most recent call last)",
      "Cell \u001b[0;32mIn[31], line 1\u001b[0m\n\u001b[0;32m----> 1\u001b[0m get_ipython()\u001b[39m.\u001b[39;49mrun_line_magic(\u001b[39m'\u001b[39;49m\u001b[39mconda\u001b[39;49m\u001b[39m'\u001b[39;49m, \u001b[39m'\u001b[39;49m\u001b[39minstall numpy matplotlib\u001b[39;49m\u001b[39m'\u001b[39;49m)\n",
      "File \u001b[0;32m~/Library/Python/3.11/lib/python/site-packages/IPython/core/interactiveshell.py:2432\u001b[0m, in \u001b[0;36mInteractiveShell.run_line_magic\u001b[0;34m(self, magic_name, line, _stack_depth)\u001b[0m\n\u001b[1;32m   2430\u001b[0m     kwargs[\u001b[39m'\u001b[39m\u001b[39mlocal_ns\u001b[39m\u001b[39m'\u001b[39m] \u001b[39m=\u001b[39m \u001b[39mself\u001b[39m\u001b[39m.\u001b[39mget_local_scope(stack_depth)\n\u001b[1;32m   2431\u001b[0m \u001b[39mwith\u001b[39;00m \u001b[39mself\u001b[39m\u001b[39m.\u001b[39mbuiltin_trap:\n\u001b[0;32m-> 2432\u001b[0m     result \u001b[39m=\u001b[39m fn(\u001b[39m*\u001b[39;49margs, \u001b[39m*\u001b[39;49m\u001b[39m*\u001b[39;49mkwargs)\n\u001b[1;32m   2434\u001b[0m \u001b[39m# The code below prevents the output from being displayed\u001b[39;00m\n\u001b[1;32m   2435\u001b[0m \u001b[39m# when using magics with decorator @output_can_be_silenced\u001b[39;00m\n\u001b[1;32m   2436\u001b[0m \u001b[39m# when the last Python token in the expression is a ';'.\u001b[39;00m\n\u001b[1;32m   2437\u001b[0m \u001b[39mif\u001b[39;00m \u001b[39mgetattr\u001b[39m(fn, magic\u001b[39m.\u001b[39mMAGIC_OUTPUT_CAN_BE_SILENCED, \u001b[39mFalse\u001b[39;00m):\n",
      "File \u001b[0;32m~/Library/Python/3.11/lib/python/site-packages/IPython/core/magics/packaging.py:87\u001b[0m, in \u001b[0;36mPackagingMagics.conda\u001b[0;34m(self, line)\u001b[0m\n\u001b[1;32m     81\u001b[0m \u001b[39m\u001b[39m\u001b[39m\"\"\"Run the conda package manager within the current kernel.\u001b[39;00m\n\u001b[1;32m     82\u001b[0m \n\u001b[1;32m     83\u001b[0m \u001b[39mUsage:\u001b[39;00m\n\u001b[1;32m     84\u001b[0m \u001b[39m  %conda install [pkgs]\u001b[39;00m\n\u001b[1;32m     85\u001b[0m \u001b[39m\"\"\"\u001b[39;00m\n\u001b[1;32m     86\u001b[0m \u001b[39mif\u001b[39;00m \u001b[39mnot\u001b[39;00m _is_conda_environment():\n\u001b[0;32m---> 87\u001b[0m     \u001b[39mraise\u001b[39;00m \u001b[39mValueError\u001b[39;00m(\u001b[39m\"\u001b[39m\u001b[39mThe python kernel does not appear to be a conda environment.  \u001b[39m\u001b[39m\"\u001b[39m\n\u001b[1;32m     88\u001b[0m                      \u001b[39m\"\u001b[39m\u001b[39mPlease use ``\u001b[39m\u001b[39m%\u001b[39m\u001b[39mpip install`` instead.\u001b[39m\u001b[39m\"\u001b[39m)\n\u001b[1;32m     90\u001b[0m conda \u001b[39m=\u001b[39m _get_conda_executable()\n\u001b[1;32m     91\u001b[0m args \u001b[39m=\u001b[39m shlex\u001b[39m.\u001b[39msplit(line)\n",
      "\u001b[0;31mValueError\u001b[0m: The python kernel does not appear to be a conda environment.  Please use ``%pip install`` instead."
     ]
    }
   ],
   "source": [
    "%conda install numpy matplotlib"
   ]
  },
  {
   "cell_type": "markdown",
   "id": "5690399a",
   "metadata": {},
   "source": [
    "### or using pip (Python's package manager)"
   ]
  },
  {
   "cell_type": "code",
   "execution_count": 32,
   "id": "7c764f87",
   "metadata": {},
   "outputs": [
    {
     "name": "stdout",
     "output_type": "stream",
     "text": [
      "Requirement already satisfied: numpy in /Library/Frameworks/Python.framework/Versions/3.11/lib/python3.11/site-packages (1.23.5)\n",
      "Collecting matplotlib\n",
      "  Downloading matplotlib-3.8.0-cp311-cp311-macosx_10_12_x86_64.whl (7.6 MB)\n",
      "\u001b[2K     \u001b[90m━━━━━━━━━━━━━━━━━━━━━━━━━━━━━━━━━━━━━━━━\u001b[0m \u001b[32m7.6/7.6 MB\u001b[0m \u001b[31m11.8 MB/s\u001b[0m eta \u001b[36m0:00:00\u001b[0m00:01\u001b[0m00:01\u001b[0m\n",
      "\u001b[?25hCollecting contourpy>=1.0.1\n",
      "  Downloading contourpy-1.1.1-cp311-cp311-macosx_10_9_x86_64.whl (248 kB)\n",
      "\u001b[2K     \u001b[90m━━━━━━━━━━━━━━━━━━━━━━━━━━━━━━━━━━━━━━━\u001b[0m \u001b[32m248.6/248.6 kB\u001b[0m \u001b[31m8.7 MB/s\u001b[0m eta \u001b[36m0:00:00\u001b[0m\n",
      "\u001b[?25hCollecting cycler>=0.10\n",
      "  Downloading cycler-0.11.0-py3-none-any.whl (6.4 kB)\n",
      "Collecting fonttools>=4.22.0\n",
      "  Downloading fonttools-4.42.1-cp311-cp311-macosx_10_9_x86_64.whl (2.2 MB)\n",
      "\u001b[2K     \u001b[90m━━━━━━━━━━━━━━━━━━━━━━━━━━━━━━━━━━━━━━━━\u001b[0m \u001b[32m2.2/2.2 MB\u001b[0m \u001b[31m26.4 MB/s\u001b[0m eta \u001b[36m0:00:00\u001b[0m00:01\u001b[0m00:01\u001b[0m\n",
      "\u001b[?25hCollecting kiwisolver>=1.0.1\n",
      "  Downloading kiwisolver-1.4.5-cp311-cp311-macosx_10_9_x86_64.whl (68 kB)\n",
      "\u001b[2K     \u001b[90m━━━━━━━━━━━━━━━━━━━━━━━━━━━━━━━━━━━━━━━━\u001b[0m \u001b[32m68.2/68.2 kB\u001b[0m \u001b[31m2.1 MB/s\u001b[0m eta \u001b[36m0:00:00\u001b[0m\n",
      "\u001b[?25hRequirement already satisfied: packaging>=20.0 in /Users/marifemamuad/Library/Python/3.11/lib/python/site-packages (from matplotlib) (23.1)\n",
      "Collecting pillow>=6.2.0\n",
      "  Downloading Pillow-10.0.1-cp311-cp311-macosx_10_10_x86_64.whl (3.7 MB)\n",
      "\u001b[2K     \u001b[90m━━━━━━━━━━━━━━━━━━━━━━━━━━━━━━━━━━━━━━━━\u001b[0m \u001b[32m3.7/3.7 MB\u001b[0m \u001b[31m14.4 MB/s\u001b[0m eta \u001b[36m0:00:00\u001b[0m00:01\u001b[0m00:01\u001b[0m\n",
      "\u001b[?25hCollecting pyparsing>=2.3.1\n",
      "  Downloading pyparsing-3.1.1-py3-none-any.whl (103 kB)\n",
      "\u001b[2K     \u001b[90m━━━━━━━━━━━━━━━━━━━━━━━━━━━━━━━━━━━━━━━\u001b[0m \u001b[32m103.1/103.1 kB\u001b[0m \u001b[31m3.9 MB/s\u001b[0m eta \u001b[36m0:00:00\u001b[0m\n",
      "\u001b[?25hRequirement already satisfied: python-dateutil>=2.7 in /Users/marifemamuad/Library/Python/3.11/lib/python/site-packages (from matplotlib) (2.8.2)\n",
      "Requirement already satisfied: six>=1.5 in /Users/marifemamuad/Library/Python/3.11/lib/python/site-packages (from python-dateutil>=2.7->matplotlib) (1.16.0)\n",
      "Installing collected packages: pyparsing, pillow, kiwisolver, fonttools, cycler, contourpy, matplotlib\n",
      "Successfully installed contourpy-1.1.1 cycler-0.11.0 fonttools-4.42.1 kiwisolver-1.4.5 matplotlib-3.8.0 pillow-10.0.1 pyparsing-3.1.1\n",
      "\n",
      "\u001b[1m[\u001b[0m\u001b[34;49mnotice\u001b[0m\u001b[1;39;49m]\u001b[0m\u001b[39;49m A new release of pip available: \u001b[0m\u001b[31;49m22.3.1\u001b[0m\u001b[39;49m -> \u001b[0m\u001b[32;49m23.2.1\u001b[0m\n",
      "\u001b[1m[\u001b[0m\u001b[34;49mnotice\u001b[0m\u001b[1;39;49m]\u001b[0m\u001b[39;49m To update, run: \u001b[0m\u001b[32;49mpip3 install --upgrade pip\u001b[0m\n",
      "Note: you may need to restart the kernel to use updated packages.\n"
     ]
    }
   ],
   "source": [
    "%pip install numpy matplotlib"
   ]
  },
  {
   "cell_type": "markdown",
   "id": "c6a392b0",
   "metadata": {},
   "source": [
    "## Printing text"
   ]
  },
  {
   "cell_type": "code",
   "execution_count": 18,
   "id": "a0c0b21a",
   "metadata": {},
   "outputs": [
    {
     "name": "stdout",
     "output_type": "stream",
     "text": [
      "Hello World!\n"
     ]
    }
   ],
   "source": [
    "print(\"Hello World!\")"
   ]
  },
  {
   "cell_type": "markdown",
   "id": "e8bdafc8",
   "metadata": {},
   "source": [
    "## Printing variables"
   ]
  },
  {
   "cell_type": "code",
   "execution_count": 20,
   "id": "32d9d970",
   "metadata": {},
   "outputs": [
    {
     "name": "stdout",
     "output_type": "stream",
     "text": [
      "The value of x is: 3\n"
     ]
    }
   ],
   "source": [
    "x = 3\n",
    "print(\"The value of x is:\", x)"
   ]
  },
  {
   "cell_type": "markdown",
   "id": "c6e5e35c",
   "metadata": {},
   "source": [
    "## Multiplication\n",
    "\n",
    "Python can perform basic arithmetic operations like multiplication"
   ]
  },
  {
   "cell_type": "code",
   "execution_count": 21,
   "id": "67912e1f",
   "metadata": {},
   "outputs": [
    {
     "name": "stdout",
     "output_type": "stream",
     "text": [
      "The result of multiplication is: 12\n"
     ]
    }
   ],
   "source": [
    "a = 3\n",
    "b = 4\n",
    "result = a * b\n",
    "print(\"The result of multiplication is:\", result)"
   ]
  },
  {
   "cell_type": "markdown",
   "id": "4a09f757",
   "metadata": {},
   "source": [
    "## Graphing Examples\n",
    "\n",
    "We can create simple graphs using the matplotlib library."
   ]
  },
  {
   "cell_type": "code",
   "execution_count": 33,
   "id": "c85b7b70",
   "metadata": {},
   "outputs": [
    {
     "data": {
      "image/png": "[encoded data removed]",
      "text/plain": [
       "<Figure size 640x480 with 1 Axes>"
      ]
     },
     "metadata": {},
     "output_type": "display_data"
    }
   ],
   "source": [
    "import matplotlib.pyplot as plt\n",
    "\n",
    "%matplotlib inline\n",
    "# Create data\n",
    "x = [1, 2, 3, 4, 5]\n",
    "y = [2, 4, 6, 8, 10]\n",
    "\n",
    "# Plot a basic line graph\n",
    "plt.plot(x, y)\n",
    "plt.xlabel('X-axis')\n",
    "plt.ylabel('Y-axis')\n",
    "plt.title('Simple Line Graph')\n",
    "plt.show()\n"
   ]
  },
  {
   "cell_type": "markdown",
   "id": "0cc3b007",
   "metadata": {},
   "source": [
    "## A More Advanced Graph"
   ]
  },
  {
   "cell_type": "code",
   "execution_count": 34,
   "id": "3f499f31",
   "metadata": {},
   "outputs": [
    {
     "data": {
      "image/png": "[encoded data removed]",
      "text/plain": [
       "<Figure size 800x600 with 1 Axes>"
      ]
     },
     "metadata": {},
     "output_type": "display_data"
    }
   ],
   "source": [
    "import numpy as np\n",
    "import matplotlib.pyplot as plt\n",
    "\n",
    "# Generate some data\n",
    "x = np.linspace(0, 10, 100)\n",
    "y1 = np.sin(x)\n",
    "y2 = np.cos(x)\n",
    "\n",
    "# Create a figure and axis\n",
    "plt.figure(figsize=(8, 6))\n",
    "plt.title('Sine and Cosine Functions')\n",
    "plt.xlabel('x')\n",
    "plt.ylabel('y')\n",
    "\n",
    "# Plot the sine and cosine functions\n",
    "plt.plot(x, y1, label='sin(x)', color='blue')\n",
    "plt.plot(x, y2, label='cos(x)', color='red')\n",
    "\n",
    "# Add a legend\n",
    "plt.legend()\n",
    "\n",
    "# Display the plot\n",
    "plt.grid(True)\n",
    "plt.show()\n"
   ]
  },
  {
   "cell_type": "markdown",
   "id": "5afdc403",
   "metadata": {},
   "source": [
    "## If Statements\n",
    "\n",
    "Conditional statements allow us to make decisions in our code."
   ]
  },
  {
   "cell_type": "code",
   "execution_count": 35,
   "id": "efe2c89e",
   "metadata": {},
   "outputs": [
    {
     "name": "stdout",
     "output_type": "stream",
     "text": [
      "You are not eligible to vote.\n"
     ]
    }
   ],
   "source": [
    "# If statement\n",
    "age = int(input(\"Enter your age: \"))\n",
    "if age < 18:\n",
    "    print(\"You are not eligible to vote.\")\n",
    "elif age<=85:\n",
    "    print(\"you are eligible to vote, go vote!\")\n",
    "else:\n",
    "    print(\"Rest, you need to rest!\")\n"
   ]
  },
  {
   "cell_type": "markdown",
   "id": "e509742c",
   "metadata": {},
   "source": [
    "## For Loops\n",
    "Loops are used to iterate over sequences (lists, strings, etc.) or execute a block of code multiple times"
   ]
  },
  {
   "cell_type": "code",
   "execution_count": 36,
   "id": "738d05ff",
   "metadata": {},
   "outputs": [
    {
     "name": "stdout",
     "output_type": "stream",
     "text": [
      "apple\n",
      "banana\n",
      "cherry\n"
     ]
    }
   ],
   "source": [
    "# For loop\n",
    "fruits = [\"apple\", \"banana\", \"cherry\"]\n",
    "for fruit in fruits:\n",
    "    print(fruit)\n"
   ]
  },
  {
   "cell_type": "markdown",
   "id": "6714e2a4",
   "metadata": {},
   "source": [
    "### Double For Loops\n",
    "we can nest for loops to do something iterative for each step in an iteration"
   ]
  },
  {
   "cell_type": "code",
   "execution_count": 9,
   "id": "97cb68a0",
   "metadata": {},
   "outputs": [
    {
     "name": "stdout",
     "output_type": "stream",
     "text": [
      "0 0 0 0 0 0 0 0 0 0 0 \n",
      "1 0 1 2 3 4 5 6 7 8 9 \n",
      "2 0 2 4 6 8 10 12 14 16 18 \n",
      "3 0 3 6 9 12 15 18 21 24 27 \n",
      "4 0 4 8 12 16 20 24 28 32 36 \n",
      "5 0 5 10 15 20 25 30 35 40 45 \n",
      "6 0 6 12 18 24 30 36 42 48 54 \n",
      "7 0 7 14 21 28 35 42 49 56 63 \n",
      "8 0 8 16 24 32 40 48 56 64 72 \n",
      "9 0 9 18 27 36 45 54 63 72 81 \n"
     ]
    }
   ],
   "source": [
    "for i in range(10):\n",
    "    print(i, end=\" \")\n",
    "    for k in range(10):\n",
    "        print(i*k, end= \" \")\n",
    "    print(\"\")"
   ]
  },
  {
   "cell_type": "markdown",
   "id": "7510ed62",
   "metadata": {},
   "source": [
    "## Functions\n",
    "Functions allow us to encapsulate and reuse code."
   ]
  },
  {
   "cell_type": "code",
   "execution_count": 10,
   "id": "c07ce258",
   "metadata": {},
   "outputs": [],
   "source": [
    "# Function definition\n",
    "def greet(name):\n",
    "    return \"Hello, \" + name + \"!\""
   ]
  },
  {
   "cell_type": "code",
   "execution_count": 12,
   "id": "012f7b5c",
   "metadata": {},
   "outputs": [
    {
     "name": "stdout",
     "output_type": "stream",
     "text": [
      "Hello, Alice!\n",
      "Enter your name: Alice\n",
      "Alice\n"
     ]
    }
   ],
   "source": [
    "# Function call\n",
    "message = greet(\"Alice\")\n",
    "print(message)\n",
    "\n",
    "input_name = input(\"Enter your name: \")\n",
    "print(input_name)"
   ]
  },
  {
   "cell_type": "markdown",
   "id": "0fe0357e",
   "metadata": {},
   "source": [
    "## Putting It All Together\n",
    "\n",
    "Write a function that takes a user's input as an integer from 1 to infinity and tells them if the number is prime or not.\n",
    "\n",
    "_function to test primality: primes have only 2 positive divisors that are not the same number, so simple approach is to start at the number  𝑛−1\n",
    "and stop at 2 and see if anything below it devides it, if anything does we stop, it is not prime_"
   ]
  },
  {
   "cell_type": "code",
   "execution_count": 29,
   "id": "c1413928",
   "metadata": {},
   "outputs": [],
   "source": [
    "#function to test primality:\n",
    "def is_prime(n):\n",
    "    #reject negatives\n",
    "    if n<=0:\n",
    "        return \"not positive\"\n",
    "    #reject decimals\n",
    "    elif round(n)!=n:\n",
    "        return \"not an integer\"\n",
    "    #handle base cases\n",
    "    elif n==1:\n",
    "        return \"not prime\"\n",
    "    elif n==2:\n",
    "        return \"prime\"\n",
    "    else:\n",
    "        for i in range(2,int(n)-1):\n",
    "            if n%i==0:\n",
    "                return \"not prime\"\n",
    "    return \"prime\"\n"
   ]
  },
  {
   "cell_type": "code",
   "execution_count": 30,
   "id": "4fcfb4fc",
   "metadata": {},
   "outputs": [
    {
     "name": "stdout",
     "output_type": "stream",
     "text": [
      "enter a positive integer; 1\n",
      "The number: 1.0 is  not prime\n"
     ]
    }
   ],
   "source": [
    "## now take use input and call the function on it\n",
    "number = float(input(\"enter a positive integer; \"))\n",
    "print(\"The number: %s is \"%number,is_prime(number))"
   ]
  },
  {
   "cell_type": "markdown",
   "id": "fb0160ea",
   "metadata": {},
   "source": [
    "## Exercises\n",
    "\n",
    "1. understanding integers, you should be aware no number above $50$ and below $99$ divides $100$, no number above $700$ and below $1399$ divides $1400$. meaning our loop does not have to search all numbers between $2$ and $n-1$. We can search just between $2$ and $\\frac{n}{2}$\n",
    "\n",
    "__using the code above, write your own function that searches only from $\\frac{n}{2}$ and test to see that it works__\n",
    "\n",
    "2. Write a function that prints all the positive even numbers below a given input integer $n$ . \n",
    "_so if $n=10$, your function returns $2,4,6,8$_"
   ]
  },
  {
   "cell_type": "code",
   "execution_count": 1,
   "id": "a111fa72",
   "metadata": {},
   "outputs": [],
   "source": [
    "#function def for question 1\n",
    "def is_prime_up_to_half(n):\n",
    "    #reject negatives\n",
    "    if n<=0:\n",
    "        return \"not positive\"\n",
    "    #reject decimals\n",
    "    elif round(n)!=n:\n",
    "        return \"not an integer\"\n",
    "    #handle base cases\n",
    "    elif n==1:\n",
    "        return \"not prime\"\n",
    "    elif n==2:\n",
    "        return \"prime\"\n",
    "    else:\n",
    "        for i in range(2,int(n/2)):\n",
    "            if n%i==0:\n",
    "                return \"not prime\"\n",
    "    return \"prime\""
   ]
  },
  {
   "cell_type": "code",
   "execution_count": 9,
   "id": "4aa6debb",
   "metadata": {},
   "outputs": [
    {
     "name": "stdout",
     "output_type": "stream",
     "text": [
      "not prime\n"
     ]
    }
   ],
   "source": [
    "print(is_prime_up_to_half(10))"
   ]
  },
  {
   "cell_type": "code",
   "execution_count": 7,
   "id": "fa8de98c",
   "metadata": {},
   "outputs": [],
   "source": [
    "#function def for question 2\n",
    "def all_evens_below(n):\n",
    "    for i in range (1, n):\n",
    "        if i%2 == 0:\n",
    "            print(i)"
   ]
  },
  {
   "cell_type": "markdown",
   "id": "e678fbad",
   "metadata": {},
   "source": [
    "-----"
   ]
  },
  {
   "cell_type": "markdown",
   "id": "06058817",
   "metadata": {},
   "source": [
    "# Last and Most Important: The Zen of Python\n",
    "\n",
    "- Beautiful is better than ugly.\n",
    "- Explicit is better than implicit.\n",
    "- Simple is better than complex.\n",
    "- Complex is better than complicated.\n",
    "- Flat is better than nested.\n",
    "- Sparse is better than dense.\n",
    "- Readability counts.\n",
    "- Special cases aren't special enough to break the rules.\n",
    "- Although practicality beats purity.\n",
    "- Errors should never pass silently.\n",
    "- Unless explicitly silenced.\n",
    "- In the face of ambiguity, refuse the temptation to guess.\n",
    "- There should be one—and preferably only one—obvious way to do it.\n",
    "- Although that way may not be obvious at first unless you're Dutch.\n",
    "- Now is better than never.\n",
    "- Although never is often better than *right* now.\n",
    "- If the implementation is hard to explain, it's a bad idea.\n",
    "- If the implementation is easy to explain, it may be a good idea.\n",
    "- Namespaces are one honking great idea—let's do more of those!\n",
    "\n",
    "-----\n"
   ]
  }
 ],
 "metadata": {
  "kernelspec": {
   "display_name": "Python 3 (ipykernel)",
   "language": "python",
   "name": "python3"
  },
  "language_info": {
   "codemirror_mode": {
    "name": "ipython",
    "version": 3
   },
   "file_extension": ".py",
   "mimetype": "text/x-python",
   "name": "python",
   "nbconvert_exporter": "python",
   "pygments_lexer": "ipython3",
   "version": "3.11.0"
  },
  "vscode": {
   "interpreter": {
    "hash": "aee8b7b246df8f9039afb4144a1f6fd8d2ca17a180786b69acc140d282b71a49"
   }
  }
 },
 "nbformat": 4,
 "nbformat_minor": 5
}
